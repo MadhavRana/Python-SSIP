{
 "cells": [
  {
   "cell_type": "markdown",
   "id": "f6eff5b0",
   "metadata": {},
   "source": [
    "# Lab 1 - Demonstrating Python integration with MongoDB"
   ]
  },
  {
   "cell_type": "code",
   "execution_count": 1,
   "id": "262912a1",
   "metadata": {},
   "outputs": [
    {
     "name": "stdout",
     "output_type": "stream",
     "text": [
      "Requirement already satisfied: pymongo in c:\\users\\admin\\anaconda3\\lib\\site-packages (4.5.0)\n",
      "Requirement already satisfied: dnspython<3.0.0,>=1.16.0 in c:\\users\\admin\\anaconda3\\lib\\site-packages (from pymongo) (2.4.2)\n",
      "Note: you may need to restart the kernel to use updated packages.\n"
     ]
    }
   ],
   "source": [
    "pip install pymongo"
   ]
  },
  {
   "cell_type": "markdown",
   "id": "372144ef",
   "metadata": {},
   "source": [
    "# Import pymongo"
   ]
  },
  {
   "cell_type": "code",
   "execution_count": 14,
   "id": "80324dcb",
   "metadata": {},
   "outputs": [],
   "source": [
    "import pymongo"
   ]
  },
  {
   "cell_type": "code",
   "execution_count": 20,
   "id": "3b290a5d",
   "metadata": {},
   "outputs": [],
   "source": [
    "myclient = pymongo.MongoClient(\"mongodb://localhost:27017\")"
   ]
  },
  {
   "cell_type": "markdown",
   "id": "bd354f9a",
   "metadata": {},
   "source": [
    "# listing all the database"
   ]
  },
  {
   "cell_type": "code",
   "execution_count": 31,
   "id": "e1c180c5",
   "metadata": {},
   "outputs": [
    {
     "data": {
      "text/plain": [
       "['admin', 'config', 'local', 'tcs_db']"
      ]
     },
     "execution_count": 31,
     "metadata": {},
     "output_type": "execute_result"
    }
   ],
   "source": [
    "myclient.list_database_names()"
   ]
  },
  {
   "cell_type": "code",
   "execution_count": 39,
   "id": "fefbc962",
   "metadata": {},
   "outputs": [],
   "source": [
    "my_db=myclient['tcs_db']"
   ]
  },
  {
   "cell_type": "code",
   "execution_count": 40,
   "id": "639aa9d3",
   "metadata": {},
   "outputs": [],
   "source": [
    "tcs_db=myclient['tcs_db']"
   ]
  },
  {
   "cell_type": "code",
   "execution_count": 41,
   "id": "8cec62a4",
   "metadata": {},
   "outputs": [],
   "source": [
    "emp_coll=tcs_db['emp_coll']"
   ]
  },
  {
   "cell_type": "code",
   "execution_count": 42,
   "id": "2cd1ce85",
   "metadata": {},
   "outputs": [],
   "source": [
    "document = {\n",
    "    \"Name\":\"Madhav\",\n",
    "    \"Age\":20,\n",
    "    \"State\":\"Gujarat\",\n",
    "    \"City\":\"Surat\",\n",
    "    \"Profile\":\"Developer\",\n",
    "    \"Salary\":20000,\n",
    "    \"Experience\":3,\n",
    "    \"Skills\":[\"PHP\",\"MySQL\",\"Python\"]\n",
    "}"
   ]
  },
  {
   "cell_type": "code",
   "execution_count": 43,
   "id": "35788c57",
   "metadata": {},
   "outputs": [
    {
     "data": {
      "text/plain": [
       "<pymongo.results.InsertOneResult at 0x287246058e0>"
      ]
     },
     "execution_count": 43,
     "metadata": {},
     "output_type": "execute_result"
    }
   ],
   "source": [
    "emp_coll.insert_one(document)   #insert the document"
   ]
  },
  {
   "cell_type": "code",
   "execution_count": 49,
   "id": "fbb8603d",
   "metadata": {},
   "outputs": [],
   "source": [
    "emp_data=[\n",
    "    {\n",
    "    \"Name\":\"Madhav\",\n",
    "    \"Age\":20,\n",
    "    \"State\":\"Gujarat\",\n",
    "    \"City\":\"Surat\",\n",
    "    \"Profile\":\"Developer\",\n",
    "    \"Salary\":20000,\n",
    "    \"Experience\":3,\n",
    "    \"Skills\":[\"PHP\",\"MySQL\",\"Python\"]\n",
    "    },\n",
    "    {\n",
    "    \"Name\":\"Dharmik\",\n",
    "    \"Age\":20,\n",
    "    \"State\":\"Gujarat\",\n",
    "    \"City\":\"Surat\",\n",
    "    \"Profile\":\"Developer\",\n",
    "    \"Salary\":110000,\n",
    "    \"Experience\":3,\n",
    "    \"Skills\":[\"PHP\",\"MySQL\",\"HTML\"]\n",
    "    },\n",
    "    {\n",
    "    \"Name\":\"Vivek\",\n",
    "    \"Age\":20,\n",
    "    \"State\":\"Gujarat\",\n",
    "    \"City\":\"Surat\",\n",
    "    \"Profile\":\"Developer\",\n",
    "    \"Salary\":10000,\n",
    "    \"Experience\":3,\n",
    "    \"Skills\":[\"PHP\",\"HTML\"]\n",
    "    }\n",
    "]"
   ]
  },
  {
   "cell_type": "code",
   "execution_count": 51,
   "id": "14c1226e",
   "metadata": {},
   "outputs": [],
   "source": [
    "emp = emp_coll.insert_many(emp_data)"
   ]
  },
  {
   "cell_type": "code",
   "execution_count": 50,
   "id": "cb0e9757",
   "metadata": {},
   "outputs": [
    {
     "data": {
      "text/plain": [
       "['emp_coll']"
      ]
     },
     "execution_count": 50,
     "metadata": {},
     "output_type": "execute_result"
    }
   ],
   "source": [
    "tcs_db.list_collection_names()"
   ]
  },
  {
   "cell_type": "code",
   "execution_count": 52,
   "id": "b4b287d6",
   "metadata": {},
   "outputs": [
    {
     "data": {
      "text/plain": [
       "<pymongo.cursor.Cursor at 0x287247187f0>"
      ]
     },
     "execution_count": 52,
     "metadata": {},
     "output_type": "execute_result"
    }
   ],
   "source": [
    "emp_coll.find()"
   ]
  },
  {
   "cell_type": "code",
   "execution_count": 56,
   "id": "f0291d23",
   "metadata": {},
   "outputs": [
    {
     "name": "stdout",
     "output_type": "stream",
     "text": [
      "Mean: 20.166666666666668\n"
     ]
    }
   ],
   "source": [
    "import numpy as np\n",
    "data=np.array([12,18,25,30,15,21])\n",
    "mean = np.mean(data)\n",
    "print(\"Mean:\",mean)"
   ]
  },
  {
   "cell_type": "code",
   "execution_count": null,
   "id": "c2aea053",
   "metadata": {},
   "outputs": [],
   "source": []
  }
 ],
 "metadata": {
  "kernelspec": {
   "display_name": "Python 3 (ipykernel)",
   "language": "python",
   "name": "python3"
  },
  "language_info": {
   "codemirror_mode": {
    "name": "ipython",
    "version": 3
   },
   "file_extension": ".py",
   "mimetype": "text/x-python",
   "name": "python",
   "nbconvert_exporter": "python",
   "pygments_lexer": "ipython3",
   "version": "3.9.12"
  }
 },
 "nbformat": 4,
 "nbformat_minor": 5
}
