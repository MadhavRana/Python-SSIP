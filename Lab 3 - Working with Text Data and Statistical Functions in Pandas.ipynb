{
 "cells": [
  {
   "cell_type": "markdown",
   "id": "44d4d575",
   "metadata": {},
   "source": [
    "# Lab 3 - Working with Text Data and Statistical Functions in Pandas"
   ]
  },
  {
   "cell_type": "code",
   "execution_count": 7,
   "id": "92ce6f9a",
   "metadata": {},
   "outputs": [
    {
     "name": "stdout",
     "output_type": "stream",
     "text": [
      "Lower Case:\n",
      " 0    madhav\n",
      "1    naresh\n",
      "2      rana\n",
      "3       NaN\n",
      "4      1234\n",
      "dtype: object\n",
      "Upper Case:\n",
      " 0    MADHAV\n",
      "1    NARESH\n",
      "2      RANA\n",
      "3       NaN\n",
      "4      1234\n",
      "dtype: object\n"
     ]
    }
   ],
   "source": [
    "import pandas as pd\n",
    "import numpy as np\n",
    "s=pd.Series([\"Madhav\",\"Naresh\",\"Rana\",np.nan,'1234'])\n",
    "print(\"Lower Case:\\n\",s.str.lower())\n",
    "print(\"Upper Case:\\n\",s.str.upper())"
   ]
  },
  {
   "cell_type": "code",
   "execution_count": 14,
   "id": "ba0f1d0c",
   "metadata": {},
   "outputs": [
    {
     "data": {
      "text/html": [
       "<div>\n",
       "<style scoped>\n",
       "    .dataframe tbody tr th:only-of-type {\n",
       "        vertical-align: middle;\n",
       "    }\n",
       "\n",
       "    .dataframe tbody tr th {\n",
       "        vertical-align: top;\n",
       "    }\n",
       "\n",
       "    .dataframe thead th {\n",
       "        text-align: right;\n",
       "    }\n",
       "</style>\n",
       "<table border=\"1\" class=\"dataframe\">\n",
       "  <thead>\n",
       "    <tr style=\"text-align: right;\">\n",
       "      <th></th>\n",
       "      <th>Name</th>\n",
       "      <th>Age</th>\n",
       "      <th>Name_Is_Upper</th>\n",
       "    </tr>\n",
       "  </thead>\n",
       "  <tbody>\n",
       "    <tr>\n",
       "      <th>0</th>\n",
       "      <td>Madhav</td>\n",
       "      <td>25</td>\n",
       "      <td>False</td>\n",
       "    </tr>\n",
       "    <tr>\n",
       "      <th>1</th>\n",
       "      <td>BOB</td>\n",
       "      <td>14</td>\n",
       "      <td>True</td>\n",
       "    </tr>\n",
       "    <tr>\n",
       "      <th>2</th>\n",
       "      <td>RANA</td>\n",
       "      <td>30</td>\n",
       "      <td>True</td>\n",
       "    </tr>\n",
       "    <tr>\n",
       "      <th>3</th>\n",
       "      <td>Dharmik</td>\n",
       "      <td>20</td>\n",
       "      <td>False</td>\n",
       "    </tr>\n",
       "  </tbody>\n",
       "</table>\n",
       "</div>"
      ],
      "text/plain": [
       "      Name  Age  Name_Is_Upper\n",
       "0   Madhav   25          False\n",
       "1      BOB   14           True\n",
       "2     RANA   30           True\n",
       "3  Dharmik   20          False"
      ]
     },
     "execution_count": 14,
     "metadata": {},
     "output_type": "execute_result"
    }
   ],
   "source": [
    "data = {\"Name\":['Madhav','BOB','RANA','Dharmik'],\"Age\":[25,14,30,20]}\n",
    "df=pd.DataFrame(data)\n",
    "df['Name_Is_Upper']=df['Name'].str.isupper()\n",
    "df"
   ]
  },
  {
   "cell_type": "code",
   "execution_count": 15,
   "id": "be494c42",
   "metadata": {},
   "outputs": [
    {
     "data": {
      "text/html": [
       "<div>\n",
       "<style scoped>\n",
       "    .dataframe tbody tr th:only-of-type {\n",
       "        vertical-align: middle;\n",
       "    }\n",
       "\n",
       "    .dataframe tbody tr th {\n",
       "        vertical-align: top;\n",
       "    }\n",
       "\n",
       "    .dataframe thead th {\n",
       "        text-align: right;\n",
       "    }\n",
       "</style>\n",
       "<table border=\"1\" class=\"dataframe\">\n",
       "  <thead>\n",
       "    <tr style=\"text-align: right;\">\n",
       "      <th></th>\n",
       "      <th>ID</th>\n",
       "      <th>Value</th>\n",
       "      <th>ID_Is_Numeric</th>\n",
       "      <th>Value_Is_Numeric</th>\n",
       "    </tr>\n",
       "  </thead>\n",
       "  <tbody>\n",
       "    <tr>\n",
       "      <th>0</th>\n",
       "      <td>123</td>\n",
       "      <td>42</td>\n",
       "      <td>True</td>\n",
       "      <td>True</td>\n",
       "    </tr>\n",
       "    <tr>\n",
       "      <th>1</th>\n",
       "      <td>ABC</td>\n",
       "      <td>XYZ</td>\n",
       "      <td>False</td>\n",
       "      <td>False</td>\n",
       "    </tr>\n",
       "    <tr>\n",
       "      <th>2</th>\n",
       "      <td>456</td>\n",
       "      <td>101</td>\n",
       "      <td>True</td>\n",
       "      <td>True</td>\n",
       "    </tr>\n",
       "    <tr>\n",
       "      <th>3</th>\n",
       "      <td>789</td>\n",
       "      <td>246</td>\n",
       "      <td>True</td>\n",
       "      <td>True</td>\n",
       "    </tr>\n",
       "  </tbody>\n",
       "</table>\n",
       "</div>"
      ],
      "text/plain": [
       "    ID Value  ID_Is_Numeric  Value_Is_Numeric\n",
       "0  123    42           True              True\n",
       "1  ABC   XYZ          False             False\n",
       "2  456   101           True              True\n",
       "3  789   246           True              True"
      ]
     },
     "execution_count": 15,
     "metadata": {},
     "output_type": "execute_result"
    }
   ],
   "source": [
    "data = {\"ID\":['123','ABC','456','789'],\"Value\":['42','XYZ','101','246']}\n",
    "df=pd.DataFrame(data)\n",
    "df['ID_Is_Numeric']=df['ID'].str.isnumeric()\n",
    "df['Value_Is_Numeric']=df['Value'].str.isnumeric()\n",
    "df"
   ]
  },
  {
   "cell_type": "markdown",
   "id": "abc0ae82",
   "metadata": {},
   "source": [
    "# Program 2 - Statistical Functions"
   ]
  },
  {
   "cell_type": "code",
   "execution_count": 20,
   "id": "669e0632",
   "metadata": {},
   "outputs": [
    {
     "data": {
      "text/plain": [
       "Math       421\n",
       "Sci        392\n",
       "English    431\n",
       "dtype: int64"
      ]
     },
     "execution_count": 20,
     "metadata": {},
     "output_type": "execute_result"
    }
   ],
   "source": [
    "import pandas as pd\n",
    "data={\"Math\":[90,75,85,90,81],\n",
    "     \"Sci\":[80,75,60,85,92],\n",
    "     \"English\":[75,89,92,90,85]}\n",
    "df=pd.DataFrame(data)\n",
    "df.sum()"
   ]
  },
  {
   "cell_type": "code",
   "execution_count": 21,
   "id": "8562b638",
   "metadata": {},
   "outputs": [],
   "source": [
    "import pandas as pd"
   ]
  },
  {
   "cell_type": "code",
   "execution_count": 23,
   "id": "a2c3c0ac",
   "metadata": {},
   "outputs": [
    {
     "name": "stdout",
     "output_type": "stream",
     "text": [
      "   Math   Sci  English\n",
      "0  90.0  80.0     75.0\n",
      "1  75.0  75.0     89.0\n",
      "2   NaN   NaN      NaN\n",
      "3  90.0   NaN     90.0\n",
      "4  81.0  92.0     85.0\n"
     ]
    },
    {
     "data": {
      "text/plain": [
       "Math       4\n",
       "Sci        3\n",
       "English    4\n",
       "dtype: int64"
      ]
     },
     "execution_count": 23,
     "metadata": {},
     "output_type": "execute_result"
    }
   ],
   "source": [
    "data={\"Math\":[90,75,None,90,81],\n",
    "     \"Sci\":[80,75,None,None,92],\n",
    "     \"English\":[75,89,None,90,85]}\n",
    "df=pd.DataFrame(data)\n",
    "print(df)\n",
    "df.count()"
   ]
  },
  {
   "cell_type": "code",
   "execution_count": 24,
   "id": "0dc7e9ac",
   "metadata": {},
   "outputs": [
    {
     "name": "stdout",
     "output_type": "stream",
     "text": [
      "   Math   Sci  English\n",
      "0  90.0  80.0     75.0\n",
      "1  75.0  75.0     89.0\n",
      "2   NaN   NaN      NaN\n",
      "3  90.0   NaN     90.0\n",
      "4  81.0  92.0     85.0\n"
     ]
    },
    {
     "data": {
      "text/plain": [
       "Math       90.0\n",
       "Sci        92.0\n",
       "English    90.0\n",
       "dtype: float64"
      ]
     },
     "execution_count": 24,
     "metadata": {},
     "output_type": "execute_result"
    }
   ],
   "source": [
    "data={\"Math\":[90,75,None,90,81],\n",
    "     \"Sci\":[80,75,None,None,92],\n",
    "     \"English\":[75,89,None,90,85]}\n",
    "df=pd.DataFrame(data)\n",
    "print(df)\n",
    "df.max()"
   ]
  },
  {
   "cell_type": "code",
   "execution_count": 25,
   "id": "f8dcd19f",
   "metadata": {},
   "outputs": [
    {
     "name": "stdout",
     "output_type": "stream",
     "text": [
      "   Math   Sci  English\n",
      "0  90.0  80.0     75.0\n",
      "1  75.0  75.0     89.0\n",
      "2   NaN   NaN      NaN\n",
      "3  90.0   NaN     90.0\n",
      "4  81.0  92.0     85.0\n"
     ]
    },
    {
     "data": {
      "text/plain": [
       "Math       85.5\n",
       "Sci        80.0\n",
       "English    87.0\n",
       "dtype: float64"
      ]
     },
     "execution_count": 25,
     "metadata": {},
     "output_type": "execute_result"
    }
   ],
   "source": [
    "data={\"Math\":[90,75,None,90,81],\n",
    "     \"Sci\":[80,75,None,None,92],\n",
    "     \"English\":[75,89,None,90,85]}\n",
    "df=pd.DataFrame(data)\n",
    "print(df)\n",
    "df.median()"
   ]
  },
  {
   "cell_type": "code",
   "execution_count": null,
   "id": "05c99989",
   "metadata": {},
   "outputs": [],
   "source": []
  },
  {
   "cell_type": "code",
   "execution_count": null,
   "id": "e43088d5",
   "metadata": {},
   "outputs": [],
   "source": []
  }
 ],
 "metadata": {
  "kernelspec": {
   "display_name": "Python 3 (ipykernel)",
   "language": "python",
   "name": "python3"
  },
  "language_info": {
   "codemirror_mode": {
    "name": "ipython",
    "version": 3
   },
   "file_extension": ".py",
   "mimetype": "text/x-python",
   "name": "python",
   "nbconvert_exporter": "python",
   "pygments_lexer": "ipython3",
   "version": "3.9.12"
  }
 },
 "nbformat": 4,
 "nbformat_minor": 5
}
