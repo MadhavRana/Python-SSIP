{
 "cells": [
  {
   "cell_type": "markdown",
   "id": "ead3ba4d",
   "metadata": {},
   "source": [
    "# Data Structure in Python\n"
   ]
  },
  {
   "cell_type": "markdown",
   "id": "28246589",
   "metadata": {},
   "source": [
    "List are mutable datatpyes(changeable).\n",
    "Syntax:list[\"Python\",\"Maths\"]"
   ]
  },
  {
   "cell_type": "code",
   "execution_count": 7,
   "id": "7bc09018",
   "metadata": {},
   "outputs": [
    {
     "data": {
      "text/plain": [
       "[3, 4, 2, 'Madhav', 12.5]"
      ]
     },
     "execution_count": 7,
     "metadata": {},
     "output_type": "execute_result"
    }
   ],
   "source": [
    "l=[3,4,2,\"Madhav\",12.5]\n",
    "l"
   ]
  },
  {
   "cell_type": "code",
   "execution_count": 3,
   "id": "8e580a1c",
   "metadata": {},
   "outputs": [
    {
     "data": {
      "text/plain": [
       "[3, 4, 2]"
      ]
     },
     "execution_count": 3,
     "metadata": {},
     "output_type": "execute_result"
    }
   ],
   "source": [
    "l[0:3]"
   ]
  },
  {
   "cell_type": "code",
   "execution_count": 8,
   "id": "295bdb77",
   "metadata": {},
   "outputs": [
    {
     "data": {
      "text/plain": [
       "[10, 4, 2, 'Madhav', 12.5]"
      ]
     },
     "execution_count": 8,
     "metadata": {},
     "output_type": "execute_result"
    }
   ],
   "source": [
    "l[0]=10\n",
    "l"
   ]
  },
  {
   "cell_type": "code",
   "execution_count": 16,
   "id": "73378a1b",
   "metadata": {},
   "outputs": [
    {
     "name": "stdout",
     "output_type": "stream",
     "text": [
      "Enter the word I Love India\n",
      "12\n"
     ]
    }
   ],
   "source": [
    "text =input(\"Enter the word \")\n",
    "text.split()\n",
    "print(len(text))"
   ]
  },
  {
   "cell_type": "code",
   "execution_count": 26,
   "id": "73e77610",
   "metadata": {},
   "outputs": [
    {
     "name": "stdout",
     "output_type": "stream",
     "text": [
      "[10, 4, 2, 'Madhav', 'India', 'is', 'big', 'country']\n"
     ]
    },
    {
     "data": {
      "text/plain": [
       "[10, 2, 'Madhav']"
      ]
     },
     "execution_count": 26,
     "metadata": {},
     "output_type": "execute_result"
    }
   ],
   "source": [
    "l1=['India','is','big','country']\n",
    "l2=(l+l1)\n",
    "print(l2)\n",
    "l3=(l1*2)\n",
    "l3\n",
    "l.remove(4)\n",
    "l"
   ]
  },
  {
   "cell_type": "code",
   "execution_count": 31,
   "id": "0267fd4a",
   "metadata": {},
   "outputs": [
    {
     "data": {
      "text/plain": [
       "['Madhav', 'Vivek']"
      ]
     },
     "execution_count": 31,
     "metadata": {},
     "output_type": "execute_result"
    }
   ],
   "source": [
    "del l[1]\n",
    "print l"
   ]
  },
  {
   "cell_type": "code",
   "execution_count": 33,
   "id": "b43083d1",
   "metadata": {},
   "outputs": [
    {
     "data": {
      "text/plain": [
       "['Madhav', 'Vivek', '']"
      ]
     },
     "execution_count": 33,
     "metadata": {},
     "output_type": "execute_result"
    }
   ],
   "source": [
    "l.append(\"\")\n",
    "print l"
   ]
  },
  {
   "cell_type": "code",
   "execution_count": 34,
   "id": "5ce6100f",
   "metadata": {},
   "outputs": [
    {
     "data": {
      "text/plain": [
       "['Madhav', 'Vivek', '', 'India', 'is', 'big', 'country']"
      ]
     },
     "execution_count": 34,
     "metadata": {},
     "output_type": "execute_result"
    }
   ],
   "source": [
    "l.extend(l1)\n",
    "print l"
   ]
  },
  {
   "cell_type": "markdown",
   "id": "40ae025d",
   "metadata": {},
   "source": [
    "# Tuples"
   ]
  },
  {
   "cell_type": "markdown",
   "id": "93aa8356",
   "metadata": {},
   "source": [
    "Tuples are immutable datatype(unchangeable).\n"
   ]
  },
  {
   "cell_type": "code",
   "execution_count": 36,
   "id": "8b2f80ef",
   "metadata": {},
   "outputs": [
    {
     "name": "stdout",
     "output_type": "stream",
     "text": [
      "('Madhav', 20, 'Vivek', 19, 'Dharmik', 0)\n",
      "<class 'tuple'>\n"
     ]
    }
   ],
   "source": [
    "#create tuple\n",
    "\n",
    "tup= (\"Madhav\",20,\"Vivek\",19,\"Dharmik\",0)\n",
    "print(tup)\n",
    "print(type(tup))"
   ]
  },
  {
   "cell_type": "code",
   "execution_count": 46,
   "id": "221ab6ab",
   "metadata": {},
   "outputs": [
    {
     "data": {
      "text/plain": [
       "('Vivek',)"
      ]
     },
     "execution_count": 46,
     "metadata": {},
     "output_type": "execute_result"
    }
   ],
   "source": [
    "tup[2]\n"
   ]
  },
  {
   "cell_type": "code",
   "execution_count": 43,
   "id": "c86286bc",
   "metadata": {},
   "outputs": [
    {
     "data": {
      "text/plain": [
       "('Madhav', 20, 'Vivek', 19, 'Dharmik', 0, 'python', 100)"
      ]
     },
     "execution_count": 43,
     "metadata": {},
     "output_type": "execute_result"
    }
   ],
   "source": [
    "tup2=(\"python\",100)\n",
    "tup3 = tup+tup2\n",
    "print tup3"
   ]
  },
  {
   "cell_type": "code",
   "execution_count": 48,
   "id": "f0476917",
   "metadata": {},
   "outputs": [
    {
     "data": {
      "text/plain": [
       "('Vivek', 19, 'Dharmik')"
      ]
     },
     "execution_count": 48,
     "metadata": {},
     "output_type": "execute_result"
    }
   ],
   "source": [
    "tup[2:5]\n"
   ]
  },
  {
   "cell_type": "markdown",
   "id": "88265338",
   "metadata": {},
   "source": [
    "# Dictionaries"
   ]
  },
  {
   "cell_type": "markdown",
   "id": "456c6a4b",
   "metadata": {},
   "source": [
    "Dictionaries are used to store data values in key:value pairs"
   ]
  },
  {
   "cell_type": "code",
   "execution_count": 51,
   "id": "3f7127ab",
   "metadata": {},
   "outputs": [
    {
     "data": {
      "text/plain": [
       "{'key1': 'value1', 'key2': 'value2', 'key3': 'value3'}"
      ]
     },
     "execution_count": 51,
     "metadata": {},
     "output_type": "execute_result"
    }
   ],
   "source": [
    "Dict = {'key1':'value1','key2':'value2','key3':'value3'}\n",
    "Dict"
   ]
  },
  {
   "cell_type": "code",
   "execution_count": 52,
   "id": "90eb0500",
   "metadata": {},
   "outputs": [
    {
     "data": {
      "text/plain": [
       "'value1'"
      ]
     },
     "execution_count": 52,
     "metadata": {},
     "output_type": "execute_result"
    }
   ],
   "source": [
    "Dict['key1']"
   ]
  },
  {
   "cell_type": "code",
   "execution_count": 54,
   "id": "3cc823c9",
   "metadata": {},
   "outputs": [
    {
     "data": {
      "text/plain": [
       "{'key1': 123, 'key2': [1, 2, 3], 'key3': ['Edu', 'Net', 'Foundation']}"
      ]
     },
     "execution_count": 54,
     "metadata": {},
     "output_type": "execute_result"
    }
   ],
   "source": [
    "my_Dict = {'key1':123,'key2':[1,2,3],'key3':['Edu','Net','Foundation']}\n",
    "my_Dict"
   ]
  },
  {
   "cell_type": "code",
   "execution_count": 59,
   "id": "ef6de6d2",
   "metadata": {},
   "outputs": [
    {
     "data": {
      "text/plain": [
       "'Edu'"
      ]
     },
     "execution_count": 59,
     "metadata": {},
     "output_type": "execute_result"
    }
   ],
   "source": [
    "my_Dict['key3'][0]\n"
   ]
  },
  {
   "cell_type": "code",
   "execution_count": 58,
   "id": "f46a9b3f",
   "metadata": {},
   "outputs": [
    {
     "data": {
      "text/plain": [
       "'EDU'"
      ]
     },
     "execution_count": 58,
     "metadata": {},
     "output_type": "execute_result"
    }
   ],
   "source": [
    " my_Dict['key3'][0].upper()"
   ]
  },
  {
   "cell_type": "code",
   "execution_count": 68,
   "id": "a6d599bf",
   "metadata": {},
   "outputs": [
    {
     "data": {
      "text/plain": [
       "{'key1': 615, 'key2': [1, 2, 3], 'key3': ['Edu', 'Net', 'Foundation']}"
      ]
     },
     "execution_count": 68,
     "metadata": {},
     "output_type": "execute_result"
    }
   ],
   "source": [
    "my_Dict['key1']=my_Dict['key1']+123\n",
    "my_Dict"
   ]
  },
  {
   "cell_type": "code",
   "execution_count": 69,
   "id": "c63bdd81",
   "metadata": {},
   "outputs": [
    {
     "name": "stdout",
     "output_type": "stream",
     "text": [
      "{'one': 'This is Python', 2: 'This is Python'}\n"
     ]
    }
   ],
   "source": [
    "dict1 ={}\n",
    "dict1['one']=\"This is Python\"\n",
    "dict1[2]=\"This is Python\"\n",
    "print(dict1)"
   ]
  },
  {
   "cell_type": "markdown",
   "id": "6fff1d08",
   "metadata": {},
   "source": [
    "# Set"
   ]
  },
  {
   "cell_type": "markdown",
   "id": "4306997c",
   "metadata": {},
   "source": [
    "Set are unordered,unchange and not allowed duplicate values"
   ]
  },
  {
   "cell_type": "code",
   "execution_count": 73,
   "id": "767ab525",
   "metadata": {},
   "outputs": [
    {
     "name": "stdout",
     "output_type": "stream",
     "text": [
      "{'Physics', 'Maths', 'Hindi'}\n",
      "3\n"
     ]
    }
   ],
   "source": [
    "thisset ={'Physics','Maths','Hindi','Maths'}\n",
    "print(thisset)\n",
    "print(len(thisset))"
   ]
  },
  {
   "cell_type": "code",
   "execution_count": 75,
   "id": "eb5b8af3",
   "metadata": {},
   "outputs": [
    {
     "data": {
      "text/plain": [
       "{'0297', '0304', '1232'}"
      ]
     },
     "execution_count": 75,
     "metadata": {},
     "output_type": "execute_result"
    }
   ],
   "source": [
    "thisset ={'1232','1232','0304','0297'}\n",
    "thisset"
   ]
  },
  {
   "cell_type": "code",
   "execution_count": 76,
   "id": "a34745dd",
   "metadata": {},
   "outputs": [
    {
     "data": {
      "text/plain": [
       "{'Hindi', 'Maths', 'Physics'}"
      ]
     },
     "execution_count": 76,
     "metadata": {},
     "output_type": "execute_result"
    }
   ],
   "source": [
    "{'Physics','Maths','Hindi','Maths'}"
   ]
  },
  {
   "cell_type": "code",
   "execution_count": 78,
   "id": "3b6fd910",
   "metadata": {},
   "outputs": [
    {
     "data": {
      "text/plain": [
       "set"
      ]
     },
     "execution_count": 78,
     "metadata": {},
     "output_type": "execute_result"
    }
   ],
   "source": [
    "type({'Physics','Maths','Hindi','Maths'})"
   ]
  },
  {
   "cell_type": "code",
   "execution_count": 85,
   "id": "9f8ca7aa",
   "metadata": {},
   "outputs": [
    {
     "data": {
      "text/plain": [
       "{10, 20, 30}"
      ]
     },
     "execution_count": 85,
     "metadata": {},
     "output_type": "execute_result"
    }
   ],
   "source": [
    "Set =set()\n",
    "Set.add(10)\n",
    "Set.add(20)\n",
    "Set.add(30)\n",
    "Set"
   ]
  },
  {
   "cell_type": "code",
   "execution_count": 89,
   "id": "a1abc931",
   "metadata": {},
   "outputs": [
    {
     "ename": "SyntaxError",
     "evalue": "invalid syntax (273681585.py, line 8)",
     "output_type": "error",
     "traceback": [
      "\u001b[1;36m  Input \u001b[1;32mIn [89]\u001b[1;36m\u001b[0m\n\u001b[1;33m    i + = 1\u001b[0m\n\u001b[1;37m        ^\u001b[0m\n\u001b[1;31mSyntaxError\u001b[0m\u001b[1;31m:\u001b[0m invalid syntax\n"
     ]
    }
   ],
   "source": [
    "i=1\n",
    "while True:\n",
    "    if i%3==0:\n",
    "        break\n",
    "    print(i)\n",
    "           \n",
    "    \n",
    "    i + = 1\n",
    "    "
   ]
  },
  {
   "cell_type": "code",
   "execution_count": 90,
   "id": "bcb254b7",
   "metadata": {},
   "outputs": [
    {
     "data": {
      "text/plain": [
       "512"
      ]
     },
     "execution_count": 90,
     "metadata": {},
     "output_type": "execute_result"
    }
   ],
   "source": [
    "2**(3**2)"
   ]
  },
  {
   "cell_type": "code",
   "execution_count": 91,
   "id": "a8c3932e",
   "metadata": {},
   "outputs": [
    {
     "data": {
      "text/plain": [
       "64"
      ]
     },
     "execution_count": 91,
     "metadata": {},
     "output_type": "execute_result"
    }
   ],
   "source": [
    "(2**3)**2"
   ]
  },
  {
   "cell_type": "code",
   "execution_count": 92,
   "id": "acd87f53",
   "metadata": {},
   "outputs": [
    {
     "data": {
      "text/plain": [
       "512"
      ]
     },
     "execution_count": 92,
     "metadata": {},
     "output_type": "execute_result"
    }
   ],
   "source": [
    "2**3**2"
   ]
  },
  {
   "cell_type": "code",
   "execution_count": 93,
   "id": "af2b53c0",
   "metadata": {},
   "outputs": [
    {
     "data": {
      "text/plain": [
       "[1, 2, 'Hello']"
      ]
     },
     "execution_count": 93,
     "metadata": {},
     "output_type": "execute_result"
    }
   ],
   "source": [
    "l=[1,0,2,0,'Hello',[]]\n",
    "list(filter(bool,l))"
   ]
  },
  {
   "cell_type": "code",
   "execution_count": null,
   "id": "1b382a90",
   "metadata": {},
   "outputs": [],
   "source": []
  }
 ],
 "metadata": {
  "kernelspec": {
   "display_name": "Python 3 (ipykernel)",
   "language": "python",
   "name": "python3"
  },
  "language_info": {
   "codemirror_mode": {
    "name": "ipython",
    "version": 3
   },
   "file_extension": ".py",
   "mimetype": "text/x-python",
   "name": "python",
   "nbconvert_exporter": "python",
   "pygments_lexer": "ipython3",
   "version": "3.9.12"
  }
 },
 "nbformat": 4,
 "nbformat_minor": 5
}
