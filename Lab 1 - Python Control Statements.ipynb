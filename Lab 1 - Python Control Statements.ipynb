{
 "cells": [
  {
   "cell_type": "markdown",
   "id": "a449e492",
   "metadata": {},
   "source": [
    "# Lab 1 - Python Control Statements"
   ]
  },
  {
   "cell_type": "markdown",
   "id": "41a440b0",
   "metadata": {},
   "source": [
    "# if,else and elif statement"
   ]
  },
  {
   "cell_type": "markdown",
   "id": "a530b0bb",
   "metadata": {},
   "source": [
    "# Conditional Statements"
   ]
  },
  {
   "cell_type": "code",
   "execution_count": 1,
   "id": "a0bd4937",
   "metadata": {},
   "outputs": [
    {
     "name": "stdout",
     "output_type": "stream",
     "text": [
      "Yes, Its TRUE...!\n"
     ]
    }
   ],
   "source": [
    "if True:\n",
    "    print(\"Yes, Its TRUE...!\")"
   ]
  },
  {
   "cell_type": "code",
   "execution_count": 61,
   "id": "2f2acb35",
   "metadata": {},
   "outputs": [],
   "source": [
    "a = 33\n",
    "b = 200\n",
    "if b>a:\n",
    "    pass  #Pass Statement"
   ]
  },
  {
   "cell_type": "code",
   "execution_count": 5,
   "id": "e87cd789",
   "metadata": {},
   "outputs": [
    {
     "name": "stdout",
     "output_type": "stream",
     "text": [
      "its FALSE\n"
     ]
    }
   ],
   "source": [
    "x=False\n",
    "if x:\n",
    "    print(\"Yes, Its TRUE...!\")\n",
    "else:\n",
    "    print(\"its FALSE\")"
   ]
  },
  {
   "cell_type": "code",
   "execution_count": 11,
   "id": "b1082479",
   "metadata": {},
   "outputs": [
    {
     "name": "stdout",
     "output_type": "stream",
     "text": [
      "X is Less than 20\n"
     ]
    }
   ],
   "source": [
    "x=10\n",
    "if x<20:\n",
    "    print(\"X is Less than 20\")\n",
    "else:\n",
    "    print(\"X is Greater than 20\")"
   ]
  },
  {
   "cell_type": "code",
   "execution_count": 17,
   "id": "e483cab7",
   "metadata": {},
   "outputs": [
    {
     "name": "stdout",
     "output_type": "stream",
     "text": [
      "Welcome to Surat..\n"
     ]
    }
   ],
   "source": [
    "city=\"Surat\"\n",
    "if city == \"Baroda\":\n",
    "    print(\"Welcome to Baroda..\")\n",
    "elif city == \"Ahemadabad\":\n",
    "    print(\"Welcome to Ahemadabad..\")\n",
    "elif city == \"Surat\":\n",
    "    print(\"Welcome to Surat..\")   \n",
    "else:\n",
    "    print(\"Welcome to my Home.\")    "
   ]
  },
  {
   "cell_type": "markdown",
   "id": "9ef9bc90",
   "metadata": {},
   "source": [
    "# Python Loop"
   ]
  },
  {
   "cell_type": "markdown",
   "id": "679b60f2",
   "metadata": {},
   "source": [
    "# While Loop"
   ]
  },
  {
   "cell_type": "code",
   "execution_count": 19,
   "id": "94c4e8e7",
   "metadata": {},
   "outputs": [
    {
     "name": "stdout",
     "output_type": "stream",
     "text": [
      "The count is: 0\n",
      "The count is: 1\n",
      "The count is: 2\n",
      "The count is: 3\n",
      "The count is: 4\n",
      "The count is: 5\n",
      "The count is: 6\n",
      "The count is: 7\n",
      "The count is: 8\n",
      "Good Bye!\n"
     ]
    }
   ],
   "source": [
    "count = 0\n",
    "while (count<9):\n",
    "    print(\"The count is:\",count)\n",
    "    count = count + 1\n",
    "print(\"Good Bye!\")"
   ]
  },
  {
   "cell_type": "code",
   "execution_count": 23,
   "id": "0a0f654d",
   "metadata": {},
   "outputs": [
    {
     "name": "stdout",
     "output_type": "stream",
     "text": [
      "0\n",
      "1\n",
      "2\n",
      "3\n",
      "4\n",
      "5\n",
      "6\n",
      "7\n",
      "8\n",
      "9\n",
      "10\n"
     ]
    }
   ],
   "source": [
    "i=0\n",
    "n=10\n",
    "while i<=10:\n",
    "    print(i)\n",
    "    i+=1\n"
   ]
  },
  {
   "cell_type": "markdown",
   "id": "1840df1f",
   "metadata": {},
   "source": [
    "# For Loop"
   ]
  },
  {
   "cell_type": "code",
   "execution_count": 26,
   "id": "6becb1cd",
   "metadata": {},
   "outputs": [
    {
     "name": "stdout",
     "output_type": "stream",
     "text": [
      "1\n",
      "2\n",
      "3\n",
      "4\n",
      "5\n",
      "6\n",
      "7\n",
      "8\n",
      "9\n",
      "10\n"
     ]
    }
   ],
   "source": [
    "lst=[1,2,3,4,5,6,7,8,9,10]\n",
    "for i in lst:\n",
    "    print(i)"
   ]
  },
  {
   "cell_type": "code",
   "execution_count": 39,
   "id": "f21a6e07",
   "metadata": {},
   "outputs": [
    {
     "name": "stdout",
     "output_type": "stream",
     "text": [
      "5\n",
      "6\n",
      "7\n",
      "8\n",
      "9\n"
     ]
    }
   ],
   "source": [
    "lst=[1,2,3,4,5,6,7,8,9,10]\n",
    "for i in range(5,10):\n",
    "    print(i)"
   ]
  },
  {
   "cell_type": "code",
   "execution_count": 33,
   "id": "eda6cf9d",
   "metadata": {},
   "outputs": [
    {
     "name": "stdout",
     "output_type": "stream",
     "text": [
      "P\n",
      "y\n",
      "t\n",
      "h\n",
      "o\n",
      "n\n"
     ]
    }
   ],
   "source": [
    "for letter in 'Python':\n",
    "    print(letter)"
   ]
  },
  {
   "cell_type": "code",
   "execution_count": 36,
   "id": "7af64107",
   "metadata": {},
   "outputs": [
    {
     "name": "stdout",
     "output_type": "stream",
     "text": [
      "apple\n",
      "banana\n",
      "grapes\n",
      "cherry\n"
     ]
    }
   ],
   "source": [
    "fruits=['apple','banana','grapes','cherry']\n",
    "for fruit in fruits:\n",
    "    print(fruit)"
   ]
  },
  {
   "cell_type": "code",
   "execution_count": 45,
   "id": "1744472f",
   "metadata": {},
   "outputs": [
    {
     "name": "stdout",
     "output_type": "stream",
     "text": [
      "1 is Odd Number\n",
      "2 is Even Number\n",
      "3 is Odd Number\n",
      "4 is Even Number\n",
      "5 is Odd Number\n",
      "6 is Even Number\n",
      "7 is Odd Number\n",
      "8 is Even Number\n",
      "9 is Odd Number\n",
      "10 is Even Number\n"
     ]
    }
   ],
   "source": [
    "lst=[1,2,3,4,5,6,7,8,9,10]\n",
    "for i in lst:\n",
    "    if i%2==0:\n",
    "        print('{} is Even Number'.format(i))\n",
    "    else:\n",
    "        print('{} is Odd Number'.format(i))"
   ]
  },
  {
   "cell_type": "code",
   "execution_count": 50,
   "id": "11df51a3",
   "metadata": {},
   "outputs": [
    {
     "name": "stdout",
     "output_type": "stream",
     "text": [
      "55\n"
     ]
    }
   ],
   "source": [
    "ans = 0\n",
    "for i in lst:\n",
    "    ans = ans + i\n",
    "    i = i + 1\n",
    "print (ans)"
   ]
  },
  {
   "cell_type": "code",
   "execution_count": 52,
   "id": "161245bc",
   "metadata": {},
   "outputs": [
    {
     "name": "stdout",
     "output_type": "stream",
     "text": [
      "1\n",
      "4\n",
      "9\n",
      "16\n",
      "25\n",
      "36\n",
      "49\n",
      "64\n",
      "81\n",
      "100\n"
     ]
    }
   ],
   "source": [
    "ans = 0\n",
    "for i in lst:\n",
    "    ans = i**2\n",
    "    print (ans)\n",
    "    i = i + 1\n"
   ]
  },
  {
   "cell_type": "code",
   "execution_count": 59,
   "id": "049820e1",
   "metadata": {},
   "outputs": [
    {
     "data": {
      "text/plain": [
       "[0, 1, 4, 9, 16, 25, 36, 49, 64, 81, 100]"
      ]
     },
     "execution_count": 59,
     "metadata": {},
     "output_type": "execute_result"
    }
   ],
   "source": [
    "sqr_lst=[x**2 for x in range(0,11)]\n",
    "sqr_lst"
   ]
  },
  {
   "cell_type": "code",
   "execution_count": null,
   "id": "378f1227",
   "metadata": {},
   "outputs": [],
   "source": []
  }
 ],
 "metadata": {
  "kernelspec": {
   "display_name": "Python 3 (ipykernel)",
   "language": "python",
   "name": "python3"
  },
  "language_info": {
   "codemirror_mode": {
    "name": "ipython",
    "version": 3
   },
   "file_extension": ".py",
   "mimetype": "text/x-python",
   "name": "python",
   "nbconvert_exporter": "python",
   "pygments_lexer": "ipython3",
   "version": "3.9.12"
  }
 },
 "nbformat": 4,
 "nbformat_minor": 5
}
