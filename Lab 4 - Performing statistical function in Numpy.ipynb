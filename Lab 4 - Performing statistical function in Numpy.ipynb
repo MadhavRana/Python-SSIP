{
 "cells": [
  {
   "cell_type": "markdown",
   "id": "85a13e0c",
   "metadata": {},
   "source": [
    "# Lab 4 - Performing statistical function in Numpy"
   ]
  },
  {
   "cell_type": "code",
   "execution_count": 1,
   "id": "58d85edd",
   "metadata": {},
   "outputs": [],
   "source": [
    "import numpy as np"
   ]
  },
  {
   "cell_type": "code",
   "execution_count": 6,
   "id": "6b0b622b",
   "metadata": {},
   "outputs": [
    {
     "name": "stdout",
     "output_type": "stream",
     "text": [
      "Mean: 30.0\n",
      "Median: 30.0\n",
      "Max value: 50\n",
      "Min value: 10\n"
     ]
    }
   ],
   "source": [
    "data=np.array([10,20,30,40,50])\n",
    "mean=np.mean(data)\n",
    "print(\"Mean:\",mean)\n",
    "\n",
    "# find median\n",
    "median=np.median(data)\n",
    "print(\"Median:\",median)\n",
    "\n",
    "# find max value\n",
    "max=np.max(data)\n",
    "print(\"Max value:\",max)\n",
    "\n",
    "# find min value\n",
    "min=np.min(data)\n",
    "print(\"Min value:\",min)\n"
   ]
  },
  {
   "cell_type": "code",
   "execution_count": null,
   "id": "541f616f",
   "metadata": {},
   "outputs": [],
   "source": []
  }
 ],
 "metadata": {
  "kernelspec": {
   "display_name": "Python 3 (ipykernel)",
   "language": "python",
   "name": "python3"
  },
  "language_info": {
   "codemirror_mode": {
    "name": "ipython",
    "version": 3
   },
   "file_extension": ".py",
   "mimetype": "text/x-python",
   "name": "python",
   "nbconvert_exporter": "python",
   "pygments_lexer": "ipython3",
   "version": "3.9.12"
  }
 },
 "nbformat": 4,
 "nbformat_minor": 5
}
