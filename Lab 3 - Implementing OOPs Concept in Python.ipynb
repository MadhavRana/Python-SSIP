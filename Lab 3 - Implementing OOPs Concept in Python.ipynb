{
 "cells": [
  {
   "cell_type": "markdown",
   "id": "baf79032",
   "metadata": {},
   "source": [
    "# Lab 3 - Implementing OOPs Concept in Python"
   ]
  },
  {
   "cell_type": "code",
   "execution_count": 16,
   "id": "e0e30921",
   "metadata": {},
   "outputs": [
    {
     "name": "stdout",
     "output_type": "stream",
     "text": [
      "Hello! My Name is Madhav\n"
     ]
    }
   ],
   "source": [
    "class Person:\n",
    "    def __init__(mysillyobject,name,age):\n",
    "        mysillyobject.name = name\n",
    "        mysillyobject.age = age\n",
    "    def myfun(abc):\n",
    "        print(\"Hello! My Name is \"+abc.name)\n",
    "p1 = Person(\"Madhav\",36)\n",
    "p1.myfun()"
   ]
  },
  {
   "cell_type": "markdown",
   "id": "f91b5445",
   "metadata": {},
   "source": [
    "# Single inheritance"
   ]
  },
  {
   "cell_type": "code",
   "execution_count": 19,
   "id": "ae7e125c",
   "metadata": {},
   "outputs": [
    {
     "name": "stdout",
     "output_type": "stream",
     "text": [
      "First Fuction\n",
      "Second Function\n"
     ]
    }
   ],
   "source": [
    "class Parent:\n",
    "    def first(self):\n",
    "        print(\"First Fuction\")\n",
    "class Child(Parent):\n",
    "    def second(self):\n",
    "        print(\"Second Function\")\n",
    "\n",
    "ob = Child()\n",
    "ob.first()\n",
    "ob.second()"
   ]
  },
  {
   "cell_type": "markdown",
   "id": "fee19e73",
   "metadata": {},
   "source": [
    "# Multiple inheritance"
   ]
  },
  {
   "cell_type": "code",
   "execution_count": 20,
   "id": "cd82c599",
   "metadata": {},
   "outputs": [
    {
     "name": "stdout",
     "output_type": "stream",
     "text": [
      "Parent Function\n",
      "Parent2 Fuction\n",
      "Child Function\n"
     ]
    }
   ],
   "source": [
    "class Parent:\n",
    "    def fun1(self):\n",
    "        print(\"Parent Function\")\n",
    "class Parent2:\n",
    "    def fun2(self):\n",
    "        print(\"Parent2 Fuction\")        \n",
    "class Child(Parent,Parent2):\n",
    "    def fun3(self):\n",
    "        print(\"Child Function\")\n",
    "\n",
    "ob = Child()\n",
    "ob.fun1()\n",
    "ob.fun2()\n",
    "ob.fun3()"
   ]
  },
  {
   "cell_type": "markdown",
   "id": "a77d038d",
   "metadata": {},
   "source": [
    "# Multilevel inheritance"
   ]
  },
  {
   "cell_type": "code",
   "execution_count": 27,
   "id": "a136436b",
   "metadata": {},
   "outputs": [
    {
     "name": "stdout",
     "output_type": "stream",
     "text": [
      "Parent Function\n",
      "Parent2 Fuction\n",
      "Child Function\n"
     ]
    }
   ],
   "source": [
    "class Parent:\n",
    "    def fun1(self):\n",
    "        print(\"Parent Function\")\n",
    "class Parent2(Parent):\n",
    "    def fun2(self):\n",
    "        print(\"Parent2 Fuction\")        \n",
    "class Child(Parent2):\n",
    "    def fun3(self):\n",
    "        print(\"Child Function\")\n",
    "ob = Child()\n",
    "ob.fun1()\n",
    "ob.fun2()\n",
    "ob.fun3()"
   ]
  },
  {
   "cell_type": "markdown",
   "id": "507b16f3",
   "metadata": {},
   "source": [
    "# Hierarchical inheritance"
   ]
  },
  {
   "cell_type": "code",
   "execution_count": 29,
   "id": "c2f7fc9e",
   "metadata": {},
   "outputs": [
    {
     "name": "stdout",
     "output_type": "stream",
     "text": [
      "Parent Function\n",
      "Child Fuction\n",
      "Parent Function\n",
      "Child2 Function\n"
     ]
    }
   ],
   "source": [
    "class Parent:\n",
    "    def fun1(self):\n",
    "        print(\"Parent Function\")\n",
    "class Child1(Parent):\n",
    "    def fun2(self):\n",
    "        print(\"Child Fuction\")        \n",
    "class Child2(Parent):\n",
    "    def fun3(self):\n",
    "        print(\"Child2 Function\")\n",
    "obj = Child1()\n",
    "ob = Child2()\n",
    "obj.fun1()\n",
    "obj.fun2()\n",
    "ob.fun1()\n",
    "ob.fun3()"
   ]
  },
  {
   "cell_type": "markdown",
   "id": "5a3792b3",
   "metadata": {},
   "source": [
    "# __init__"
   ]
  },
  {
   "cell_type": "code",
   "execution_count": 24,
   "id": "41979835",
   "metadata": {},
   "outputs": [
    {
     "name": "stdout",
     "output_type": "stream",
     "text": [
      "Madhav teaches Computer Science\n"
     ]
    }
   ],
   "source": [
    "class Teacher:\n",
    "    def __init__(self,name,subject):\n",
    "        self.name = name\n",
    "        self.subject = subject\n",
    "    def show(self):\n",
    "        print(self.name,\"teaches\" ,self.subject)\n",
    "T=Teacher('Madhav',\"Computer Science\")\n",
    "T.show()"
   ]
  },
  {
   "cell_type": "code",
   "execution_count": null,
   "id": "4c82b5e4",
   "metadata": {},
   "outputs": [],
   "source": []
  }
 ],
 "metadata": {
  "kernelspec": {
   "display_name": "Python 3 (ipykernel)",
   "language": "python",
   "name": "python3"
  },
  "language_info": {
   "codemirror_mode": {
    "name": "ipython",
    "version": 3
   },
   "file_extension": ".py",
   "mimetype": "text/x-python",
   "name": "python",
   "nbconvert_exporter": "python",
   "pygments_lexer": "ipython3",
   "version": "3.9.12"
  }
 },
 "nbformat": 4,
 "nbformat_minor": 5
}
