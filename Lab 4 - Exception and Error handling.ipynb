{
 "cells": [
  {
   "cell_type": "markdown",
   "id": "68db16c4",
   "metadata": {},
   "source": [
    "# Lab 4 - Exception and Error handling"
   ]
  },
  {
   "cell_type": "markdown",
   "id": "aa2770c4",
   "metadata": {},
   "source": [
    "# Try Block"
   ]
  },
  {
   "cell_type": "code",
   "execution_count": 2,
   "id": "60e65905",
   "metadata": {},
   "outputs": [
    {
     "name": "stdout",
     "output_type": "stream",
     "text": [
      "Here an exception occured\n"
     ]
    }
   ],
   "source": [
    "try:\n",
    "    print(x)\n",
    "except:\n",
    "    print(\"Here an exception occured\")"
   ]
  },
  {
   "cell_type": "code",
   "execution_count": 11,
   "id": "72e19cd6",
   "metadata": {},
   "outputs": [
    {
     "name": "stdout",
     "output_type": "stream",
     "text": [
      "Yeah! Your name is : 1\n"
     ]
    }
   ],
   "source": [
    "def divide(x,y):\n",
    "    try:\n",
    "        result = x//y\n",
    "        print(\"Yeah! Your name is :\",result)\n",
    "    except:\n",
    "        print(\"Sorry! You are dividing by zero\")\n",
    "divide(3, 2)"
   ]
  },
  {
   "cell_type": "code",
   "execution_count": 12,
   "id": "90e4b3a4",
   "metadata": {},
   "outputs": [
    {
     "name": "stdout",
     "output_type": "stream",
     "text": [
      "Sorry! You are dividing by zero\n"
     ]
    }
   ],
   "source": [
    "def divide(x,y):\n",
    "    try:\n",
    "        result = x//y\n",
    "        print(\"Yeah! Your name is :\",result)\n",
    "    except:\n",
    "        print(\"Sorry! You are dividing by zero\")\n",
    "divide(3, 0)"
   ]
  },
  {
   "cell_type": "markdown",
   "id": "8e7d4a5a",
   "metadata": {},
   "source": [
    "# Try-Except-Else Block"
   ]
  },
  {
   "cell_type": "code",
   "execution_count": 14,
   "id": "45b86d27",
   "metadata": {},
   "outputs": [
    {
     "name": "stdout",
     "output_type": "stream",
     "text": [
      "-5.0\n",
      "a/b result in 0\n"
     ]
    }
   ],
   "source": [
    "def AbyB(a , b):\n",
    "    try:\n",
    "        c=((a+b)//(a-b))\n",
    "    except ZeroDivisionError:\n",
    "        print(\"a/b result in 0\")\n",
    "    else:\n",
    "        print(c)\n",
    "AbyB(2.0,3.0)\n",
    "AbyB(3.0,3.0)"
   ]
  },
  {
   "cell_type": "markdown",
   "id": "f7f96ae8",
   "metadata": {},
   "source": [
    "# Try-Except-Finally Block"
   ]
  },
  {
   "cell_type": "code",
   "execution_count": 19,
   "id": "ddb85665",
   "metadata": {},
   "outputs": [
    {
     "name": "stdout",
     "output_type": "stream",
     "text": [
      "Can't divide by 0\n",
      "This is always execute\n"
     ]
    }
   ],
   "source": [
    "try:\n",
    "    k = 5//0\n",
    "    print(k)\n",
    "except ZeroDivisionError:\n",
    "        print(\"Can't divide by 0\")\n",
    "finally:\n",
    "    print(\"This is always execute\")"
   ]
  },
  {
   "cell_type": "code",
   "execution_count": 21,
   "id": "e294a207",
   "metadata": {},
   "outputs": [
    {
     "ename": "NameError",
     "evalue": "name 'age' is not defined",
     "output_type": "error",
     "traceback": [
      "\u001b[1;31m---------------------------------------------------------------------------\u001b[0m",
      "\u001b[1;31mNameError\u001b[0m                                 Traceback (most recent call last)",
      "Input \u001b[1;32mIn [21]\u001b[0m, in \u001b[0;36m<cell line: 1>\u001b[1;34m()\u001b[0m\n\u001b[1;32m----> 1\u001b[0m \u001b[43mage\u001b[49m\n",
      "\u001b[1;31mNameError\u001b[0m: name 'age' is not defined"
     ]
    }
   ],
   "source": [
    "age"
   ]
  },
  {
   "cell_type": "code",
   "execution_count": 22,
   "id": "9ac6b085",
   "metadata": {},
   "outputs": [
    {
     "ename": "ModuleNotFoundError",
     "evalue": "No module named 'kemcho'",
     "output_type": "error",
     "traceback": [
      "\u001b[1;31m---------------------------------------------------------------------------\u001b[0m",
      "\u001b[1;31mModuleNotFoundError\u001b[0m                       Traceback (most recent call last)",
      "Input \u001b[1;32mIn [22]\u001b[0m, in \u001b[0;36m<cell line: 1>\u001b[1;34m()\u001b[0m\n\u001b[1;32m----> 1\u001b[0m \u001b[38;5;28;01mimport\u001b[39;00m \u001b[38;5;21;01mkemcho\u001b[39;00m\n",
      "\u001b[1;31mModuleNotFoundError\u001b[0m: No module named 'kemcho'"
     ]
    }
   ],
   "source": [
    "import kemcho"
   ]
  },
  {
   "cell_type": "code",
   "execution_count": 29,
   "id": "8f0010cd",
   "metadata": {},
   "outputs": [
    {
     "ename": "TypeError",
     "evalue": "can only concatenate str (not \"int\") to str",
     "output_type": "error",
     "traceback": [
      "\u001b[1;31m---------------------------------------------------------------------------\u001b[0m",
      "\u001b[1;31mTypeError\u001b[0m                                 Traceback (most recent call last)",
      "Input \u001b[1;32mIn [29]\u001b[0m, in \u001b[0;36m<cell line: 1>\u001b[1;34m()\u001b[0m\n\u001b[1;32m----> 1\u001b[0m \u001b[38;5;124;43m'\u001b[39;49m\u001b[38;5;124;43m2\u001b[39;49m\u001b[38;5;124;43m'\u001b[39;49m\u001b[38;5;241;43m+\u001b[39;49m\u001b[38;5;241;43m2\u001b[39;49m\n",
      "\u001b[1;31mTypeError\u001b[0m: can only concatenate str (not \"int\") to str"
     ]
    }
   ],
   "source": [
    "'2'+2"
   ]
  },
  {
   "cell_type": "code",
   "execution_count": 2,
   "id": "707a493e",
   "metadata": {},
   "outputs": [
    {
     "name": "stdout",
     "output_type": "stream",
     "text": [
      "Press 1 Addition\n",
      "Press 2 Multiplation\n",
      "Press 3 Subtraction\n",
      "Press 4 Division\n",
      "Enter Your Choice:2\n",
      "Enter a Number 10\n",
      "Enter b Number 5\n",
      " Multiplication is : {50}\n"
     ]
    }
   ],
   "source": [
    "def ans(a,b):\n",
    "    add=a+b\n",
    "    mul=a*b\n",
    "    sub=a-b\n",
    "    div=a/b\n",
    "    \n",
    "    if n == 1:\n",
    "        print(\"Addition is :\",{add})\n",
    "    elif n==2:\n",
    "        print(\" Multiplication is :\",{mul})\n",
    "    elif n==3:\n",
    "        print(\"Subtractionis is :\",{sub})    \n",
    "    elif n==4:\n",
    "        print(\"Division is :\",{div})\n",
    "    else:\n",
    "        print(\"Please Enter a Vaild Choice..!!\")\n",
    "print(\"Press 1 Addition\")\n",
    "print(\"Press 2 Multiplation\")\n",
    "print(\"Press 3 Subtraction\")\n",
    "\n",
    "print(\"Press 4 Division\")\n",
    "\n",
    "n=int(input(\"Enter Your Choice:\"))\n",
    "\n",
    "a=int(input(\"Enter a Number \"))\n",
    "b=int(input(\"Enter b Number \"))\n",
    "ans(a,b)\n"
   ]
  },
  {
   "cell_type": "code",
   "execution_count": 41,
   "id": "4e1a8d7e",
   "metadata": {},
   "outputs": [
    {
     "name": "stdout",
     "output_type": "stream",
     "text": [
      "Requirement already satisfied: pymongo in c:\\users\\admin\\anaconda3\\lib\\site-packages (4.5.0)\n",
      "Requirement already satisfied: dnspython<3.0.0,>=1.16.0 in c:\\users\\admin\\anaconda3\\lib\\site-packages (from pymongo) (2.4.2)\n",
      "Note: you may need to restart the kernel to use updated packages.\n"
     ]
    }
   ],
   "source": [
    "pip install pymongo"
   ]
  },
  {
   "cell_type": "code",
   "execution_count": null,
   "id": "d99675ed",
   "metadata": {},
   "outputs": [],
   "source": []
  }
 ],
 "metadata": {
  "kernelspec": {
   "display_name": "Python 3 (ipykernel)",
   "language": "python",
   "name": "python3"
  },
  "language_info": {
   "codemirror_mode": {
    "name": "ipython",
    "version": 3
   },
   "file_extension": ".py",
   "mimetype": "text/x-python",
   "name": "python",
   "nbconvert_exporter": "python",
   "pygments_lexer": "ipython3",
   "version": "3.9.12"
  }
 },
 "nbformat": 4,
 "nbformat_minor": 5
}
