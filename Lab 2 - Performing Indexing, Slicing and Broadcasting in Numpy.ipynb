{
 "cells": [
  {
   "cell_type": "markdown",
   "id": "edc0cfe9",
   "metadata": {},
   "source": [
    "# Lab 2 - Performing Indexing, Slicing and Broadcasting in Numpy"
   ]
  },
  {
   "cell_type": "markdown",
   "id": "c85cde86",
   "metadata": {},
   "source": [
    "# Program 1 - Indexing in NumPy"
   ]
  },
  {
   "cell_type": "code",
   "execution_count": 4,
   "id": "3c62735f",
   "metadata": {},
   "outputs": [],
   "source": [
    "import numpy as np"
   ]
  },
  {
   "cell_type": "code",
   "execution_count": 10,
   "id": "e347082c",
   "metadata": {},
   "outputs": [
    {
     "name": "stdout",
     "output_type": "stream",
     "text": [
      "Elements of array: [1 3 5 7 9]\n",
      "Indexed Elemnts of array arr: [9 1 5 9 7]\n"
     ]
    }
   ],
   "source": [
    "arr=np.arange(1,10,2)\n",
    "print(\"Elements of array:\",arr)\n",
    "arr1=arr[np.array([4,0,2,-1,-2])]\n",
    "print(\"Indexed Elemnts of array arr:\",arr1)"
   ]
  },
  {
   "cell_type": "code",
   "execution_count": 16,
   "id": "6b8d32af",
   "metadata": {},
   "outputs": [
    {
     "name": "stdout",
     "output_type": "stream",
     "text": [
      "Array arr1: [9 1 5 9 7]\n",
      "Array 1: 9\n",
      "Array 2: 1\n",
      "Array 3: 5\n",
      "Array 4: 9\n",
      "Array 5: 7\n"
     ]
    }
   ],
   "source": [
    "print(\"Array arr1:\",arr1)\n",
    "print(\"Array 1:\",arr1[0])\n",
    "print(\"Array 2:\",arr1[1])\n",
    "print(\"Array 3:\",arr1[2])\n",
    "print(\"Array 4:\",arr1[3])\n",
    "print(\"Array 5:\",arr1[4])\n"
   ]
  },
  {
   "cell_type": "code",
   "execution_count": 18,
   "id": "c9737c02",
   "metadata": {},
   "outputs": [
    {
     "data": {
      "text/plain": [
       "array([ 0,  1,  2,  3,  4,  5,  6,  7,  8,  9, 10, 11])"
      ]
     },
     "execution_count": 18,
     "metadata": {},
     "output_type": "execute_result"
    }
   ],
   "source": [
    "arr=np.arange(12)\n",
    "arr"
   ]
  },
  {
   "cell_type": "code",
   "execution_count": 34,
   "id": "956037aa",
   "metadata": {},
   "outputs": [
    {
     "data": {
      "text/plain": [
       "array([[ 0,  1,  2,  3],\n",
       "       [ 4,  5,  6,  7],\n",
       "       [ 8,  9, 10, 11]])"
      ]
     },
     "execution_count": 34,
     "metadata": {},
     "output_type": "execute_result"
    }
   ],
   "source": [
    "arr1=arr.reshape(3,4)\n",
    "arr1"
   ]
  },
  {
   "cell_type": "code",
   "execution_count": 35,
   "id": "6af0ae5c",
   "metadata": {},
   "outputs": [
    {
     "name": "stdout",
     "output_type": "stream",
     "text": [
      "Element 1st row and 3column index: 7\n"
     ]
    }
   ],
   "source": [
    "print(\"Element 1st row and 3column index:\",arr1[1,3])"
   ]
  },
  {
   "cell_type": "code",
   "execution_count": 24,
   "id": "ee86b944",
   "metadata": {},
   "outputs": [
    {
     "name": "stdout",
     "output_type": "stream",
     "text": [
      "Element index: 9\n"
     ]
    }
   ],
   "source": [
    "print(\"Element index:\",arr1[2,1])"
   ]
  },
  {
   "cell_type": "code",
   "execution_count": 25,
   "id": "b78feba0",
   "metadata": {},
   "outputs": [
    {
     "name": "stdout",
     "output_type": "stream",
     "text": [
      "Element index: 4\n"
     ]
    }
   ],
   "source": [
    "print(\"Element index:\",arr1[1,0])"
   ]
  },
  {
   "cell_type": "code",
   "execution_count": 26,
   "id": "4037050f",
   "metadata": {},
   "outputs": [
    {
     "name": "stdout",
     "output_type": "stream",
     "text": [
      "Element index: 2\n"
     ]
    }
   ],
   "source": [
    "print(\"Element index:\",arr1[0,2])"
   ]
  },
  {
   "cell_type": "code",
   "execution_count": 27,
   "id": "246f954f",
   "metadata": {},
   "outputs": [
    {
     "name": "stdout",
     "output_type": "stream",
     "text": [
      "Element index: 5\n"
     ]
    }
   ],
   "source": [
    "print(\"Element index:\",arr1[1,1])"
   ]
  },
  {
   "cell_type": "code",
   "execution_count": 37,
   "id": "0d302dc6",
   "metadata": {},
   "outputs": [
    {
     "data": {
      "text/plain": [
       "array([[[ 0,  1,  2],\n",
       "        [ 3,  4,  5]],\n",
       "\n",
       "       [[ 6,  7,  8],\n",
       "        [ 9, 10, 11]]])"
      ]
     },
     "execution_count": 37,
     "metadata": {},
     "output_type": "execute_result"
    }
   ],
   "source": [
    "arr=np.arange(12)\n",
    "arr\n",
    "arr1=arr.reshape(2,2,3)\n",
    "arr1"
   ]
  },
  {
   "cell_type": "code",
   "execution_count": 31,
   "id": "0945b31d",
   "metadata": {},
   "outputs": [
    {
     "name": "stdout",
     "output_type": "stream",
     "text": [
      "Element index: 8\n"
     ]
    }
   ],
   "source": [
    "print(\"Element index:\",arr1[1,0,2])"
   ]
  },
  {
   "cell_type": "code",
   "execution_count": 38,
   "id": "6002d19d",
   "metadata": {},
   "outputs": [
    {
     "name": "stdout",
     "output_type": "stream",
     "text": [
      "Element 0 array, 1 row and 1 column index: 4\n"
     ]
    }
   ],
   "source": [
    "print(\"Element 0 array, 1 row and 1 column index:\",arr1[0,1,1])"
   ]
  },
  {
   "cell_type": "markdown",
   "id": "81656342",
   "metadata": {},
   "source": [
    "# Program 2 - Slicing in Arrays"
   ]
  },
  {
   "cell_type": "code",
   "execution_count": 42,
   "id": "c26aca9f",
   "metadata": {},
   "outputs": [
    {
     "name": "stdout",
     "output_type": "stream",
     "text": [
      "[0 1 2 3 4 5]\n"
     ]
    },
    {
     "data": {
      "text/plain": [
       "array([1, 2, 3, 4])"
      ]
     },
     "execution_count": 42,
     "metadata": {},
     "output_type": "execute_result"
    }
   ],
   "source": [
    "arr=np.arange(6)\n",
    "print(arr)\n",
    "arr[1:5]"
   ]
  },
  {
   "cell_type": "code",
   "execution_count": 62,
   "id": "34aef1a7",
   "metadata": {},
   "outputs": [
    {
     "name": "stdout",
     "output_type": "stream",
     "text": [
      "[[ 0  1  2  3]\n",
      " [ 4  5  6  7]\n",
      " [ 8  9 10 11]]\n",
      "Elements of 1st row and 1st column upto last column\n",
      " [[5 6]]\n"
     ]
    }
   ],
   "source": [
    "arr=np.arange(12)\n",
    "arr\n",
    "arr1=arr.reshape(3,4)\n",
    "print (arr1)\n",
    "print(\"Elements of 1st row and 1st column upto last column\\n\",arr1[1:2,1:3])"
   ]
  },
  {
   "cell_type": "code",
   "execution_count": 69,
   "id": "e6841082",
   "metadata": {},
   "outputs": [
    {
     "name": "stdout",
     "output_type": "stream",
     "text": [
      "[[1 2 3]\n",
      " [4 5 6]\n",
      " [7 8 9]]\n"
     ]
    }
   ],
   "source": [
    "arr=np.arange(1,10)\n",
    "arr\n",
    "arr1=arr.reshape(3,3)\n",
    "print (arr1)"
   ]
  },
  {
   "cell_type": "code",
   "execution_count": 75,
   "id": "d0bcf73f",
   "metadata": {},
   "outputs": [
    {
     "name": "stdout",
     "output_type": "stream",
     "text": [
      "[[11 12 13]\n",
      " [14 15 16]\n",
      " [17 18 19]]\n"
     ]
    }
   ],
   "source": [
    "scalar=10\n",
    "result=arr1+scalar\n",
    "print(result)"
   ]
  },
  {
   "cell_type": "code",
   "execution_count": null,
   "id": "e3b6dd5f",
   "metadata": {},
   "outputs": [],
   "source": []
  }
 ],
 "metadata": {
  "kernelspec": {
   "display_name": "Python 3 (ipykernel)",
   "language": "python",
   "name": "python3"
  },
  "language_info": {
   "codemirror_mode": {
    "name": "ipython",
    "version": 3
   },
   "file_extension": ".py",
   "mimetype": "text/x-python",
   "name": "python",
   "nbconvert_exporter": "python",
   "pygments_lexer": "ipython3",
   "version": "3.9.12"
  }
 },
 "nbformat": 4,
 "nbformat_minor": 5
}
