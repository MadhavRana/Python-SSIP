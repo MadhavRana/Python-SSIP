{
 "cells": [
  {
   "cell_type": "markdown",
   "id": "ab587376",
   "metadata": {},
   "source": [
    "# Lab 2 - Function and Module Creation"
   ]
  },
  {
   "cell_type": "markdown",
   "id": "72c7fa76",
   "metadata": {},
   "source": [
    "# Function"
   ]
  },
  {
   "cell_type": "markdown",
   "id": "a35f2883",
   "metadata": {},
   "source": [
    "Function is a block of code."
   ]
  },
  {
   "cell_type": "code",
   "execution_count": 1,
   "id": "dbf59d46",
   "metadata": {},
   "outputs": [
    {
     "name": "stdout",
     "output_type": "stream",
     "text": [
      "Value is 10\n"
     ]
    }
   ],
   "source": [
    "def show(n):\n",
    "    print(\"Value is\",n)\n",
    "a=10\n",
    "show(a)"
   ]
  },
  {
   "cell_type": "code",
   "execution_count": 2,
   "id": "8efc2b37",
   "metadata": {},
   "outputs": [
    {
     "name": "stdout",
     "output_type": "stream",
     "text": [
      "Hello Mr.S.C.Bose,Good Morning!\n"
     ]
    }
   ],
   "source": [
    "def greetings(s):\n",
    "    print(f\"Hello Mr.{s},Good Morning!\")\n",
    "greetings(\"S.C.Bose\")"
   ]
  },
  {
   "cell_type": "code",
   "execution_count": 3,
   "id": "ae8c4b9c",
   "metadata": {},
   "outputs": [
    {
     "name": "stdout",
     "output_type": "stream",
     "text": [
      "Hello Surat\n"
     ]
    }
   ],
   "source": [
    "def say_hello():\n",
    "    print(\"Hello Surat\")\n",
    "say_hello()"
   ]
  },
  {
   "cell_type": "code",
   "execution_count": 4,
   "id": "fd9b9764",
   "metadata": {},
   "outputs": [
    {
     "data": {
      "text/plain": [
       "30"
      ]
     },
     "execution_count": 4,
     "metadata": {},
     "output_type": "execute_result"
    }
   ],
   "source": [
    "def add(n1,n2):\n",
    "    return n1+n2\n",
    "add(10,20)\n"
   ]
  },
  {
   "cell_type": "markdown",
   "id": "e533593b",
   "metadata": {},
   "source": [
    "W.A.P to check number even or odd"
   ]
  },
  {
   "cell_type": "code",
   "execution_count": 1,
   "id": "682faca5",
   "metadata": {},
   "outputs": [
    {
     "name": "stdout",
     "output_type": "stream",
     "text": [
      "Enter Number to check Odd or Even 12\n",
      "12 Number is Even\n"
     ]
    }
   ],
   "source": [
    "num= int(input(\"Enter Number to check Odd or Even \"))\n",
    "def find_oddEven(num):\n",
    "    if num%2==0:\n",
    "        print('{} Number is Even'.format(num))\n",
    "    else:\n",
    "        print('{} Number is Odd'.format(num))\n",
    "find_oddEven(num)\n"
   ]
  },
  {
   "cell_type": "code",
   "execution_count": 8,
   "id": "effd9089",
   "metadata": {},
   "outputs": [
    {
     "name": "stdout",
     "output_type": "stream",
     "text": [
      "Sum is: 15, Mul is: 50, Sub is: 5\n"
     ]
    }
   ],
   "source": [
    "def ans(a,b):\n",
    "    add=a+b\n",
    "    mul=a*b\n",
    "    sub=a-b\n",
    "    print(f\"Sum is: {add}, Mul is: {mul}, Sub is: {sub}\")\n",
    "ans(10,5)    \n",
    "    \n",
    "\n",
    "#a = int(input(\"Enter a Number \"))\n",
    "\n",
    "#b = int(input(\"Enter b Number \"))\n"
   ]
  },
  {
   "cell_type": "code",
   "execution_count": 9,
   "id": "f80fe943",
   "metadata": {},
   "outputs": [
    {
     "name": "stdout",
     "output_type": "stream",
     "text": [
      "Enter Number is: 5\n",
      "25\n"
     ]
    }
   ],
   "source": [
    "def ans(a):\n",
    "    return a**2\n",
    "num=int(input(\"Enter Number is: \"))\n",
    "print(ans(num))"
   ]
  },
  {
   "cell_type": "markdown",
   "id": "486c2d83",
   "metadata": {},
   "source": [
    "Function creation using defalut arguments"
   ]
  },
  {
   "cell_type": "code",
   "execution_count": 15,
   "id": "7ba7db6d",
   "metadata": {},
   "outputs": [
    {
     "name": "stdout",
     "output_type": "stream",
     "text": [
      "x:  10\n",
      "y:  50\n"
     ]
    }
   ],
   "source": [
    "def myfun(x,y=50):\n",
    "    print(\"x: \",x)\n",
    "    print(\"y: \",y)\n",
    "myfun(10)"
   ]
  },
  {
   "cell_type": "markdown",
   "id": "814b307a",
   "metadata": {},
   "source": [
    " # Function with *args and **kwargs"
   ]
  },
  {
   "cell_type": "code",
   "execution_count": 23,
   "id": "d00e80b9",
   "metadata": {},
   "outputs": [
    {
     "name": "stdout",
     "output_type": "stream",
     "text": [
      "The brilliant student is Madhav\n"
     ]
    }
   ],
   "source": [
    "def fun1(*student):\n",
    "    print (\"The brilliant student is \" +student[0])\n",
    "fun1('Madhav','Bhavika','Ravi','Vivek','Dharmik')"
   ]
  },
  {
   "cell_type": "code",
   "execution_count": 27,
   "id": "36f82bce",
   "metadata": {},
   "outputs": [
    {
     "name": "stdout",
     "output_type": "stream",
     "text": [
      "The brilliant student is Rana\n"
     ]
    }
   ],
   "source": [
    "def fun1(**student):\n",
    "    print (\"The brilliant student is \" +student[\"lname\"])\n",
    "fun1(fname = \"Madhav\",lname=\"Rana\")"
   ]
  },
  {
   "cell_type": "markdown",
   "id": "a76968e9",
   "metadata": {},
   "source": [
    "# Lamda Function"
   ]
  },
  {
   "cell_type": "markdown",
   "id": "381ee81d",
   "metadata": {},
   "source": [
    "lambda arg:exp\n",
    "\n",
    "A lamda function is small anonymous function"
   ]
  },
  {
   "cell_type": "code",
   "execution_count": 34,
   "id": "8ccf8650",
   "metadata": {},
   "outputs": [
    {
     "name": "stdout",
     "output_type": "stream",
     "text": [
      "Enter the Year: 2000\n",
      "This year is Leap Year\n"
     ]
    }
   ],
   "source": [
    "n = int(input(\"Enter the Year: \"))\n",
    "leap = lambda y:(y%4 == 0 and y%100 !=0) or y%400 == 0\n",
    "if leap(n):\n",
    "    print(\"This year is Leap Year\")\n",
    "else:\n",
    "    print(\"This year is not Leap Year\")"
   ]
  },
  {
   "cell_type": "code",
   "execution_count": 35,
   "id": "79c28944",
   "metadata": {},
   "outputs": [
    {
     "data": {
      "text/plain": [
       "15"
      ]
     },
     "execution_count": 35,
     "metadata": {},
     "output_type": "execute_result"
    }
   ],
   "source": [
    "x = lambda a:a+10\n",
    "x(5)"
   ]
  },
  {
   "cell_type": "markdown",
   "id": "63b9973e",
   "metadata": {},
   "source": [
    "# Python Module and Packages"
   ]
  },
  {
   "cell_type": "markdown",
   "id": "9089eb9f",
   "metadata": {},
   "source": [
    "Library is a collection of Pre-combined codes that can be used iteratively reduce the time.\n",
    "pip - Python Install Package"
   ]
  },
  {
   "cell_type": "code",
   "execution_count": 38,
   "id": "039a6df2",
   "metadata": {},
   "outputs": [
    {
     "name": "stdout",
     "output_type": "stream",
     "text": [
      "Requirement already satisfied: numpy in c:\\users\\admin\\anaconda3\\lib\\site-packages (1.21.5)\n",
      "Note: you may need to restart the kernel to use updated packages.\n"
     ]
    }
   ],
   "source": [
    "pip install numpy"
   ]
  },
  {
   "cell_type": "code",
   "execution_count": 41,
   "id": "86e6a10b",
   "metadata": {},
   "outputs": [],
   "source": [
    "#import platform\n",
    "import platform"
   ]
  },
  {
   "cell_type": "code",
   "execution_count": 44,
   "id": "1703be7a",
   "metadata": {},
   "outputs": [
    {
     "data": {
      "text/plain": [
       "'Windows'"
      ]
     },
     "execution_count": 44,
     "metadata": {},
     "output_type": "execute_result"
    }
   ],
   "source": [
    "platform.system()"
   ]
  },
  {
   "cell_type": "code",
   "execution_count": 45,
   "id": "fd01d692",
   "metadata": {},
   "outputs": [],
   "source": [
    "import math"
   ]
  },
  {
   "cell_type": "code",
   "execution_count": 48,
   "id": "ec928451",
   "metadata": {},
   "outputs": [
    {
     "data": {
      "text/plain": [
       "4"
      ]
     },
     "execution_count": 48,
     "metadata": {},
     "output_type": "execute_result"
    }
   ],
   "source": [
    "math.isqrt(16)"
   ]
  },
  {
   "cell_type": "code",
   "execution_count": 49,
   "id": "6517d3c7",
   "metadata": {},
   "outputs": [
    {
     "data": {
      "text/plain": [
       "25.0"
      ]
     },
     "execution_count": 49,
     "metadata": {},
     "output_type": "execute_result"
    }
   ],
   "source": [
    "math.pow(5,2)"
   ]
  },
  {
   "cell_type": "code",
   "execution_count": 50,
   "id": "fc885b93",
   "metadata": {},
   "outputs": [
    {
     "data": {
      "text/plain": [
       "3.141592653589793"
      ]
     },
     "execution_count": 50,
     "metadata": {},
     "output_type": "execute_result"
    }
   ],
   "source": [
    "math.pi"
   ]
  },
  {
   "cell_type": "code",
   "execution_count": 51,
   "id": "0ed190ef",
   "metadata": {},
   "outputs": [
    {
     "data": {
      "text/plain": [
       "120"
      ]
     },
     "execution_count": 51,
     "metadata": {},
     "output_type": "execute_result"
    }
   ],
   "source": [
    "math.factorial(5)"
   ]
  },
  {
   "cell_type": "code",
   "execution_count": 52,
   "id": "5a2e59b5",
   "metadata": {},
   "outputs": [
    {
     "data": {
      "text/plain": [
       "11"
      ]
     },
     "execution_count": 52,
     "metadata": {},
     "output_type": "execute_result"
    }
   ],
   "source": [
    "min(11,14)"
   ]
  },
  {
   "cell_type": "code",
   "execution_count": 53,
   "id": "c56db150",
   "metadata": {},
   "outputs": [
    {
     "data": {
      "text/plain": [
       "50"
      ]
     },
     "execution_count": 53,
     "metadata": {},
     "output_type": "execute_result"
    }
   ],
   "source": [
    "max(50,37)"
   ]
  },
  {
   "cell_type": "code",
   "execution_count": 59,
   "id": "b04c31af",
   "metadata": {},
   "outputs": [
    {
     "data": {
      "text/plain": [
       "['__doc__',\n",
       " '__loader__',\n",
       " '__name__',\n",
       " '__package__',\n",
       " '__spec__',\n",
       " 'acos',\n",
       " 'acosh',\n",
       " 'asin',\n",
       " 'asinh',\n",
       " 'atan',\n",
       " 'atan2',\n",
       " 'atanh',\n",
       " 'ceil',\n",
       " 'comb',\n",
       " 'copysign',\n",
       " 'cos',\n",
       " 'cosh',\n",
       " 'degrees',\n",
       " 'dist',\n",
       " 'e',\n",
       " 'erf',\n",
       " 'erfc',\n",
       " 'exp',\n",
       " 'expm1',\n",
       " 'fabs',\n",
       " 'factorial',\n",
       " 'floor',\n",
       " 'fmod',\n",
       " 'frexp',\n",
       " 'fsum',\n",
       " 'gamma',\n",
       " 'gcd',\n",
       " 'hypot',\n",
       " 'inf',\n",
       " 'isclose',\n",
       " 'isfinite',\n",
       " 'isinf',\n",
       " 'isnan',\n",
       " 'isqrt',\n",
       " 'lcm',\n",
       " 'ldexp',\n",
       " 'lgamma',\n",
       " 'log',\n",
       " 'log10',\n",
       " 'log1p',\n",
       " 'log2',\n",
       " 'modf',\n",
       " 'nan',\n",
       " 'nextafter',\n",
       " 'perm',\n",
       " 'pi',\n",
       " 'pow',\n",
       " 'prod',\n",
       " 'radians',\n",
       " 'remainder',\n",
       " 'sin',\n",
       " 'sinh',\n",
       " 'sqrt',\n",
       " 'tan',\n",
       " 'tanh',\n",
       " 'tau',\n",
       " 'trunc',\n",
       " 'ulp']"
      ]
     },
     "execution_count": 59,
     "metadata": {},
     "output_type": "execute_result"
    }
   ],
   "source": [
    "dir(math)"
   ]
  },
  {
   "cell_type": "code",
   "execution_count": 64,
   "id": "1cbdc1bc",
   "metadata": {},
   "outputs": [
    {
     "data": {
      "text/plain": [
       "2.0794415416798357"
      ]
     },
     "execution_count": 64,
     "metadata": {},
     "output_type": "execute_result"
    }
   ],
   "source": [
    "math.log(8)"
   ]
  },
  {
   "cell_type": "code",
   "execution_count": 68,
   "id": "3dcf7633",
   "metadata": {},
   "outputs": [
    {
     "data": {
      "text/plain": [
       "['_Processor',\n",
       " '_WIN32_CLIENT_RELEASES',\n",
       " '_WIN32_SERVER_RELEASES',\n",
       " '__builtins__',\n",
       " '__cached__',\n",
       " '__copyright__',\n",
       " '__doc__',\n",
       " '__file__',\n",
       " '__loader__',\n",
       " '__name__',\n",
       " '__package__',\n",
       " '__spec__',\n",
       " '__version__',\n",
       " '_comparable_version',\n",
       " '_component_re',\n",
       " '_default_architecture',\n",
       " '_follow_symlinks',\n",
       " '_get_machine_win32',\n",
       " '_ironpython26_sys_version_parser',\n",
       " '_ironpython_sys_version_parser',\n",
       " '_java_getprop',\n",
       " '_libc_search',\n",
       " '_mac_ver_xml',\n",
       " '_node',\n",
       " '_norm_version',\n",
       " '_platform',\n",
       " '_platform_cache',\n",
       " '_pypy_sys_version_parser',\n",
       " '_sys_version',\n",
       " '_sys_version_cache',\n",
       " '_sys_version_parser',\n",
       " '_syscmd_file',\n",
       " '_syscmd_ver',\n",
       " '_uname_cache',\n",
       " '_unknown_as_blank',\n",
       " '_ver_output',\n",
       " '_ver_stages',\n",
       " 'architecture',\n",
       " 'collections',\n",
       " 'functools',\n",
       " 'itertools',\n",
       " 'java_ver',\n",
       " 'libc_ver',\n",
       " 'mac_ver',\n",
       " 'machine',\n",
       " 'node',\n",
       " 'os',\n",
       " 'platform',\n",
       " 'processor',\n",
       " 'python_branch',\n",
       " 'python_build',\n",
       " 'python_compiler',\n",
       " 'python_implementation',\n",
       " 'python_revision',\n",
       " 'python_version',\n",
       " 'python_version_tuple',\n",
       " 're',\n",
       " 'release',\n",
       " 'subprocess',\n",
       " 'sys',\n",
       " 'system',\n",
       " 'system_alias',\n",
       " 'uname',\n",
       " 'uname_result',\n",
       " 'version',\n",
       " 'win32_edition',\n",
       " 'win32_is_iot',\n",
       " 'win32_ver']"
      ]
     },
     "execution_count": 68,
     "metadata": {},
     "output_type": "execute_result"
    }
   ],
   "source": [
    "dir(platform)"
   ]
  },
  {
   "cell_type": "code",
   "execution_count": 72,
   "id": "c0830df7",
   "metadata": {},
   "outputs": [],
   "source": [
    "import greetings"
   ]
  },
  {
   "cell_type": "code",
   "execution_count": 73,
   "id": "3e18bf97",
   "metadata": {},
   "outputs": [
    {
     "name": "stdout",
     "output_type": "stream",
     "text": [
      "Hello, Madhav\n"
     ]
    }
   ],
   "source": [
    "greetings.greeting('Madhav')"
   ]
  }
 ],
 "metadata": {
  "kernelspec": {
   "display_name": "Python 3 (ipykernel)",
   "language": "python",
   "name": "python3"
  },
  "language_info": {
   "codemirror_mode": {
    "name": "ipython",
    "version": 3
   },
   "file_extension": ".py",
   "mimetype": "text/x-python",
   "name": "python",
   "nbconvert_exporter": "python",
   "pygments_lexer": "ipython3",
   "version": "3.9.12"
  }
 },
 "nbformat": 4,
 "nbformat_minor": 5
}
