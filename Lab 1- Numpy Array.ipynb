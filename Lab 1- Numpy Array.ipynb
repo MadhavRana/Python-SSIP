{
 "cells": [
  {
   "cell_type": "markdown",
   "id": "fce89165",
   "metadata": {},
   "source": [
    "# Numpy Array"
   ]
  },
  {
   "cell_type": "markdown",
   "id": "d227a0b5",
   "metadata": {},
   "source": [
    "# Exercise 2 - Perform I/O with Numpy "
   ]
  },
  {
   "cell_type": "markdown",
   "id": "7f30f42e",
   "metadata": {},
   "source": [
    "# numpy.save"
   ]
  },
  {
   "cell_type": "code",
   "execution_count": 1,
   "id": "fb2cf4a6",
   "metadata": {},
   "outputs": [],
   "source": [
    "import numpy as np"
   ]
  },
  {
   "cell_type": "code",
   "execution_count": 2,
   "id": "87de81f8",
   "metadata": {},
   "outputs": [],
   "source": [
    "a=np.array([1,2,3,4,5])"
   ]
  },
  {
   "cell_type": "code",
   "execution_count": 3,
   "id": "cef6e500",
   "metadata": {},
   "outputs": [],
   "source": [
    "np.save('outfile',a)"
   ]
  },
  {
   "cell_type": "code",
   "execution_count": 4,
   "id": "dee37d1f",
   "metadata": {},
   "outputs": [
    {
     "name": "stdout",
     "output_type": "stream",
     "text": [
      "[1 2 3 4 5]\n"
     ]
    }
   ],
   "source": [
    "b=np.load('outfile.npy')\n",
    "print(b)"
   ]
  },
  {
   "cell_type": "code",
   "execution_count": 14,
   "id": "9d7192ee",
   "metadata": {},
   "outputs": [],
   "source": [
    "a=np.array([1,2,3,4,5])\n",
    "np.savetxt('out.txt',a)"
   ]
  },
  {
   "cell_type": "code",
   "execution_count": 15,
   "id": "c0e8a4e1",
   "metadata": {},
   "outputs": [
    {
     "name": "stdout",
     "output_type": "stream",
     "text": [
      "[1. 2. 3. 4. 5.]\n"
     ]
    }
   ],
   "source": [
    "b=np.loadtxt('out.txt')\n",
    "print(b)"
   ]
  },
  {
   "cell_type": "code",
   "execution_count": null,
   "id": "82dc216e",
   "metadata": {},
   "outputs": [],
   "source": []
  }
 ],
 "metadata": {
  "kernelspec": {
   "display_name": "Python 3 (ipykernel)",
   "language": "python",
   "name": "python3"
  },
  "language_info": {
   "codemirror_mode": {
    "name": "ipython",
    "version": 3
   },
   "file_extension": ".py",
   "mimetype": "text/x-python",
   "name": "python",
   "nbconvert_exporter": "python",
   "pygments_lexer": "ipython3",
   "version": "3.9.12"
  }
 },
 "nbformat": 4,
 "nbformat_minor": 5
}
