{
 "cells": [
  {
   "cell_type": "raw",
   "id": "5e9948d8",
   "metadata": {},
   "source": [
    "# Lab 2 - Perform Basic Python Operation"
   ]
  },
  {
   "cell_type": "markdown",
   "id": "f43e6531",
   "metadata": {},
   "source": [
    "# We will cover following topics\n",
    "\n",
    "    Python Variables.\n",
    "    Python data structures\n",
    "    "
   ]
  },
  {
   "cell_type": "code",
   "execution_count": 1,
   "id": "2ea3a860",
   "metadata": {},
   "outputs": [
    {
     "name": "stdout",
     "output_type": "stream",
     "text": [
      "I am Madhav Rana\n"
     ]
    }
   ],
   "source": [
    "#Print your name # single Line Comment:\n",
    "print(\"I am Madhav Rana\")"
   ]
  },
  {
   "cell_type": "markdown",
   "id": "835c84aa",
   "metadata": {},
   "source": [
    "# Python Variable"
   ]
  },
  {
   "cell_type": "markdown",
   "id": "d0a27562",
   "metadata": {},
   "source": [
    "Variable is a container which store a value of a particular memory."
   ]
  },
  {
   "cell_type": "code",
   "execution_count": 2,
   "id": "6e50d489",
   "metadata": {},
   "outputs": [],
   "source": [
    "count = 100 #Int Assignment\n",
    "kilometers = 1000.0 #float Assignment\n",
    "name = 'Madhav' #String Assignment"
   ]
  },
  {
   "cell_type": "code",
   "execution_count": 4,
   "id": "4a7f0335",
   "metadata": {},
   "outputs": [
    {
     "name": "stdout",
     "output_type": "stream",
     "text": [
      "100 1000.0 Madhav\n"
     ]
    }
   ],
   "source": [
    "print(count,kilometers,name)"
   ]
  },
  {
   "cell_type": "code",
   "execution_count": 4,
   "id": "d6990691",
   "metadata": {},
   "outputs": [],
   "source": [
    "a,b,c=1,2,\"Madhav\"  \n"
   ]
  },
  {
   "cell_type": "code",
   "execution_count": 9,
   "id": "7b4d8100",
   "metadata": {},
   "outputs": [
    {
     "name": "stdout",
     "output_type": "stream",
     "text": [
      "1,2,Madhav\n",
      "1.2.Madhav\n",
      "1\n",
      "2\n",
      "Madhav\n"
     ]
    }
   ],
   "source": [
    "print(a,b,c,sep=',')\n",
    "print(a,b,c,sep='.')\n",
    "print(a,b,c,sep='\\n')"
   ]
  },
  {
   "cell_type": "code",
   "execution_count": 19,
   "id": "e16a0d21",
   "metadata": {},
   "outputs": [
    {
     "name": "stdout",
     "output_type": "stream",
     "text": [
      "<class 'str'>\n",
      "<class 'int'>\n",
      "<class 'float'>\n",
      "<class 'complex'>\n",
      "<class 'list'>\n",
      "<class 'tuple'>\n",
      "<class 'range'>\n",
      "<class 'dict'>\n",
      "<class 'set'>\n",
      "<class 'frozenset'>\n"
     ]
    }
   ],
   "source": [
    "a = \"Hello World!\"                                                                 #String\n",
    "b = 20                                                                            #int\n",
    "c = 20.5                                                                          #float\n",
    "d = 1j                                                                            #complex   \n",
    "e = [\"apple\",\"banana\",\"cherry\"]                                                   #list\n",
    "f = (\"apple\",\"banana\",\"cherry\")                                                   #tuple\n",
    "g = range(6)                                                                      #range\n",
    "h = {\"name\":\"Madhav\",\"age\":20}                                                    #dict\n",
    "i = {\"apple\",\"banana\",\"cherry\"}                                                   #set\n",
    "j = frozenset({\"apple\",\"banana\",\"cherry\"})                                        #frozenset\n",
    "\n",
    "# Print Data Type\n",
    "\n",
    "print(type(a))\n",
    "print(type(b))\n",
    "print(type(c))\n",
    "print(type(d))\n",
    "print(type(e))\n",
    "print(type(f))\n",
    "print(type(g))\n",
    "print(type(h))\n",
    "print(type(i))\n",
    "print(type(j))\n"
   ]
  },
  {
   "cell_type": "code",
   "execution_count": 7,
   "id": "a14ad6c9",
   "metadata": {},
   "outputs": [
    {
     "data": {
      "text/plain": [
       "float"
      ]
     },
     "execution_count": 7,
     "metadata": {},
     "output_type": "execute_result"
    }
   ],
   "source": [
    "num1 = 3.14\n",
    "type(num1)"
   ]
  },
  {
   "cell_type": "markdown",
   "id": "62feed29",
   "metadata": {},
   "source": [
    "# Python string"
   ]
  },
  {
   "cell_type": "markdown",
   "id": "d67c1f2a",
   "metadata": {},
   "source": [
    "String are identified as a contiguous set of characters represented in the quotation mark."
   ]
  },
  {
   "cell_type": "code",
   "execution_count": 114,
   "id": "cd687fe9",
   "metadata": {},
   "outputs": [],
   "source": [
    "str1 = 'Python is a programming language'"
   ]
  },
  {
   "cell_type": "code",
   "execution_count": 11,
   "id": "9ce7f240",
   "metadata": {},
   "outputs": [
    {
     "name": "stdout",
     "output_type": "stream",
     "text": [
      "Python is a programming language\n"
     ]
    }
   ],
   "source": [
    "print(str1)"
   ]
  },
  {
   "cell_type": "code",
   "execution_count": 19,
   "id": "2fb6ceb9",
   "metadata": {},
   "outputs": [
    {
     "name": "stdout",
     "output_type": "stream",
     "text": [
      "32\n",
      "n\n",
      "e\n"
     ]
    }
   ],
   "source": [
    "print(len(str1))\n",
    "print(str1[5])\n",
    "print(str1[-1])"
   ]
  },
  {
   "cell_type": "code",
   "execution_count": 117,
   "id": "bacd391f",
   "metadata": {},
   "outputs": [
    {
     "name": "stdout",
     "output_type": "stream",
     "text": [
      "thon i\n"
     ]
    }
   ],
   "source": [
    "print(str1[2:8])"
   ]
  },
  {
   "cell_type": "code",
   "execution_count": 32,
   "id": "5c9a9ba7",
   "metadata": {},
   "outputs": [
    {
     "name": "stdout",
     "output_type": "stream",
     "text": [
      "N Madhav Rana\n"
     ]
    }
   ],
   "source": [
    "# Python formate string\n",
    "\n",
    "string1 = \"{2} {0} {1}\".format('Madhav','Rana','N')\n",
    "print(string1)"
   ]
  },
  {
   "cell_type": "code",
   "execution_count": 38,
   "id": "e50fc16c",
   "metadata": {},
   "outputs": [
    {
     "name": "stdout",
     "output_type": "stream",
     "text": [
      "Madhav Rana N\n"
     ]
    }
   ],
   "source": [
    "string1 = \"{a} {b} {c}\".format(a='Madhav',b='Rana',c='N')\n",
    "print(string1)"
   ]
  },
  {
   "cell_type": "code",
   "execution_count": 39,
   "id": "5295e1f1",
   "metadata": {},
   "outputs": [
    {
     "name": "stdout",
     "output_type": "stream",
     "text": [
      "Madhav is the student of my class.\n"
     ]
    }
   ],
   "source": [
    "val = 'Madhav'\n",
    "print(f\"{val} is the student of my class.\")"
   ]
  },
  {
   "cell_type": "code",
   "execution_count": 43,
   "id": "35668ac4",
   "metadata": {},
   "outputs": [
    {
     "name": "stdout",
     "output_type": "stream",
     "text": [
      "Hello! My name is Madhav and my age is 20.\n"
     ]
    }
   ],
   "source": [
    "name = 'Madhav'\n",
    "age = 20\n",
    "print(f\"Hello! My name is {name} and my age is {age}.\")\n"
   ]
  },
  {
   "cell_type": "code",
   "execution_count": 60,
   "id": "ddb61b9a",
   "metadata": {},
   "outputs": [
    {
     "name": "stdout",
     "output_type": "stream",
     "text": [
      "APPLE IS A KING OF FRUITS\n",
      "apple is a king of fruits\n",
      "Apple Is A King Of Fruits\n",
      "Apple is a king of fruits\n",
      "25\n",
      "['apple', 'is', 'a', 'king', 'of', 'fruits']\n",
      "appleapple is a king of fruitsisapple is a king of fruitsaapple is a king of fruitskingapple is a king of fruitsofapple is a king of fruitsfruits\n"
     ]
    }
   ],
   "source": [
    "str1 = 'apple is a king of fruits'\n",
    "print(str1.upper())\n",
    "print(str1.lower())\n",
    "print(str1.title())\n",
    "print(str1.capitalize())\n",
    "print(len(str1))\n",
    "s=(str1.split())\n",
    "print(s)\n",
    "k=(str1.join(s))\n",
    "print(k)"
   ]
  },
  {
   "cell_type": "markdown",
   "id": "739b78d5",
   "metadata": {},
   "source": [
    "# Python Operators\n"
   ]
  },
  {
   "cell_type": "markdown",
   "id": "691951ab",
   "metadata": {},
   "source": [
    "Arithmetic Operator"
   ]
  },
  {
   "cell_type": "code",
   "execution_count": 66,
   "id": "1fbcd248",
   "metadata": {},
   "outputs": [
    {
     "data": {
      "text/plain": [
       "15"
      ]
     },
     "execution_count": 66,
     "metadata": {},
     "output_type": "execute_result"
    }
   ],
   "source": [
    "5+10\n"
   ]
  },
  {
   "cell_type": "code",
   "execution_count": 67,
   "id": "524bbb6f",
   "metadata": {},
   "outputs": [
    {
     "data": {
      "text/plain": [
       "36"
      ]
     },
     "execution_count": 67,
     "metadata": {},
     "output_type": "execute_result"
    }
   ],
   "source": [
    "6*6\n"
   ]
  },
  {
   "cell_type": "markdown",
   "id": "f4571e3f",
   "metadata": {},
   "source": [
    "Assignment Operator"
   ]
  },
  {
   "cell_type": "code",
   "execution_count": 70,
   "id": "7c5de144",
   "metadata": {},
   "outputs": [
    {
     "name": "stdout",
     "output_type": "stream",
     "text": [
      "15\n"
     ]
    }
   ],
   "source": [
    "x= 10\n",
    "x += 5\n",
    "print(x)"
   ]
  },
  {
   "cell_type": "markdown",
   "id": "5363a23e",
   "metadata": {},
   "source": [
    "comparision Operator"
   ]
  },
  {
   "cell_type": "code",
   "execution_count": 71,
   "id": "19794f8a",
   "metadata": {},
   "outputs": [
    {
     "name": "stdout",
     "output_type": "stream",
     "text": [
      "False\n"
     ]
    }
   ],
   "source": [
    "x = 5\n",
    "y = 7\n",
    "print(x == y)"
   ]
  },
  {
   "cell_type": "markdown",
   "id": "fcb72005",
   "metadata": {},
   "source": [
    "Logical Operator"
   ]
  },
  {
   "cell_type": "code",
   "execution_count": 76,
   "id": "1aa69f52",
   "metadata": {},
   "outputs": [
    {
     "name": "stdout",
     "output_type": "stream",
     "text": [
      "True\n"
     ]
    }
   ],
   "source": [
    "x = 5\n",
    "print(x >3 or x < 4)"
   ]
  },
  {
   "cell_type": "code",
   "execution_count": 80,
   "id": "ca4a9581",
   "metadata": {},
   "outputs": [
    {
     "data": {
      "text/plain": [
       "2"
      ]
     },
     "execution_count": 80,
     "metadata": {},
     "output_type": "execute_result"
    }
   ],
   "source": [
    "5//2"
   ]
  },
  {
   "cell_type": "code",
   "execution_count": 78,
   "id": "72df6457",
   "metadata": {},
   "outputs": [
    {
     "data": {
      "text/plain": [
       "2.5"
      ]
     },
     "execution_count": 78,
     "metadata": {},
     "output_type": "execute_result"
    }
   ],
   "source": [
    "10/4"
   ]
  },
  {
   "cell_type": "code",
   "execution_count": 84,
   "id": "bc0b3e93",
   "metadata": {},
   "outputs": [
    {
     "data": {
      "text/plain": [
       "25"
      ]
     },
     "execution_count": 84,
     "metadata": {},
     "output_type": "execute_result"
    }
   ],
   "source": [
    "5**2"
   ]
  },
  {
   "cell_type": "code",
   "execution_count": 85,
   "id": "7534e0c1",
   "metadata": {},
   "outputs": [
    {
     "data": {
      "text/plain": [
       "2.23606797749979"
      ]
     },
     "execution_count": 85,
     "metadata": {},
     "output_type": "execute_result"
    }
   ],
   "source": [
    "5**0.5"
   ]
  },
  {
   "cell_type": "code",
   "execution_count": 88,
   "id": "1bf113c7",
   "metadata": {},
   "outputs": [
    {
     "data": {
      "text/plain": [
       "105"
      ]
     },
     "execution_count": 88,
     "metadata": {},
     "output_type": "execute_result"
    }
   ],
   "source": [
    "2+10*10+3"
   ]
  },
  {
   "cell_type": "code",
   "execution_count": 89,
   "id": "e4ca0e32",
   "metadata": {},
   "outputs": [
    {
     "data": {
      "text/plain": [
       "156"
      ]
     },
     "execution_count": 89,
     "metadata": {},
     "output_type": "execute_result"
    }
   ],
   "source": [
    "(2+10)*(10+3)"
   ]
  },
  {
   "cell_type": "markdown",
   "id": "961d696e",
   "metadata": {},
   "source": [
    "Get take a value or Input"
   ]
  },
  {
   "cell_type": "code",
   "execution_count": 96,
   "id": "5a70c35d",
   "metadata": {},
   "outputs": [
    {
     "name": "stdout",
     "output_type": "stream",
     "text": [
      "Enter the value of x:10\n",
      "Enter the value of y:5\n",
      "50\n"
     ]
    }
   ],
   "source": [
    "x = int(input(\"Enter the value of x:\"))\n",
    "y = int(input(\"Enter the value of y:\"))\n",
    "z=x*y\n",
    "print(z)"
   ]
  },
  {
   "cell_type": "markdown",
   "id": "2bb5715f",
   "metadata": {},
   "source": [
    "Python Version Check in notebook"
   ]
  },
  {
   "cell_type": "code",
   "execution_count": 98,
   "id": "cd9213da",
   "metadata": {},
   "outputs": [
    {
     "name": "stdout",
     "output_type": "stream",
     "text": [
      "3.9.12\n"
     ]
    }
   ],
   "source": [
    "from platform import python_version\n",
    "print(python_version())"
   ]
  },
  {
   "cell_type": "code",
   "execution_count": 99,
   "id": "2d220186",
   "metadata": {},
   "outputs": [
    {
     "name": "stdout",
     "output_type": "stream",
     "text": [
      "<class 'bool'>\n",
      "<class 'bool'>\n"
     ]
    }
   ],
   "source": [
    "var1= True\n",
    "var2 = False\n",
    "print(type(var1))\n",
    "print(type(var2))"
   ]
  },
  {
   "cell_type": "code",
   "execution_count": 112,
   "id": "ca8773a1",
   "metadata": {},
   "outputs": [
    {
     "name": "stdout",
     "output_type": "stream",
     "text": [
      "Gujarat University\n",
      "GujaratGujaratGujaratGujaratGujaratGujaratGujaratGujaratGujaratGujarat\n"
     ]
    }
   ],
   "source": [
    "str1 = \"Gujarat\"\n",
    "str2 = \" University\"\n",
    "str3 = str1 + str2                                 #Concatenation\n",
    "print(str3)\n",
    "str4 = str1 * 10                                   #Repeat\n",
    "print(str4)"
   ]
  },
  {
   "cell_type": "code",
   "execution_count": null,
   "id": "ea669de9",
   "metadata": {},
   "outputs": [],
   "source": []
  }
 ],
 "metadata": {
  "kernelspec": {
   "display_name": "Python 3 (ipykernel)",
   "language": "python",
   "name": "python3"
  },
  "language_info": {
   "codemirror_mode": {
    "name": "ipython",
    "version": 3
   },
   "file_extension": ".py",
   "mimetype": "text/x-python",
   "name": "python",
   "nbconvert_exporter": "python",
   "pygments_lexer": "ipython3",
   "version": "3.9.12"
  }
 },
 "nbformat": 4,
 "nbformat_minor": 5
}
