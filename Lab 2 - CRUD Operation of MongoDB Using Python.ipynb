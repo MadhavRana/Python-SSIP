{
 "cells": [
  {
   "cell_type": "markdown",
   "id": "6e05253f",
   "metadata": {},
   "source": [
    "# Lab 2 - CRUD Operation of MongoDB Using Python"
   ]
  },
  {
   "cell_type": "code",
   "execution_count": 1,
   "id": "719a2640",
   "metadata": {},
   "outputs": [],
   "source": [
    "import pymongo"
   ]
  },
  {
   "cell_type": "code",
   "execution_count": 2,
   "id": "ad175979",
   "metadata": {},
   "outputs": [],
   "source": [
    "myclient = pymongo.MongoClient(\"mongodb://localhost:27017/\")"
   ]
  },
  {
   "cell_type": "markdown",
   "id": "ab02debb",
   "metadata": {},
   "source": [
    "# Creating new database and collection in MongoDB"
   ]
  },
  {
   "cell_type": "code",
   "execution_count": 3,
   "id": "305e09c3",
   "metadata": {},
   "outputs": [],
   "source": [
    "infosys_db=myclient[\"infosys_db\"]"
   ]
  },
  {
   "cell_type": "code",
   "execution_count": 4,
   "id": "2aa738e5",
   "metadata": {},
   "outputs": [],
   "source": [
    "emp_coll=infosys_db['emp_coll']"
   ]
  },
  {
   "cell_type": "markdown",
   "id": "61ca0bee",
   "metadata": {},
   "source": [
    "# However, the database and the collection are not created using them.lets fill them with data. "
   ]
  },
  {
   "cell_type": "code",
   "execution_count": 5,
   "id": "462baf0f",
   "metadata": {},
   "outputs": [],
   "source": [
    "document = {\n",
    "    \"Name\":\"Madhav\",\n",
    "    \"Age\":20,\n",
    "    \"State\":\"Gujarat\",\n",
    "    \"City\":\"Surat\",\n",
    "    \"Profile\":\"Developer\",\n",
    "    \"Salary\":20000,\n",
    "    \"Experience\":3,\n",
    "    \"Skills\":[\"PHP\",\"MySQL\",\"Python\"]\n",
    "}"
   ]
  },
  {
   "cell_type": "code",
   "execution_count": 6,
   "id": "07da787f",
   "metadata": {},
   "outputs": [
    {
     "data": {
      "text/plain": [
       "<pymongo.results.InsertOneResult at 0x20d62ff7ac0>"
      ]
     },
     "execution_count": 6,
     "metadata": {},
     "output_type": "execute_result"
    }
   ],
   "source": [
    "emp_coll.insert_one(document)"
   ]
  },
  {
   "cell_type": "code",
   "execution_count": 7,
   "id": "e579063a",
   "metadata": {},
   "outputs": [],
   "source": [
    "emp_data=[\n",
    "    {\n",
    "    \"Name\":\"Madhav\",\n",
    "    \"Age\":20,\n",
    "    \"State\":\"Gujarat\",\n",
    "    \"City\":\"Surat\",\n",
    "    \"Profile\":\"Developer\",\n",
    "    \"Salary\":20000,\n",
    "    \"Experience\":3,\n",
    "    \"Skills\":[\"PHP\",\"MySQL\",\"Python\"]\n",
    "    },\n",
    "    {\n",
    "    \"Name\":\"Dharmik\",\n",
    "    \"Age\":20,\n",
    "    \"State\":\"Gujarat\",\n",
    "    \"City\":\"Surat\",\n",
    "    \"Profile\":\"Developer\",\n",
    "    \"Salary\":110000,\n",
    "    \"Experience\":3,\n",
    "    \"Skills\":[\"PHP\",\"MySQL\",\"HTML\"]\n",
    "    },\n",
    "    {\n",
    "    \"Name\":\"Vivek\",\n",
    "    \"Age\":20,\n",
    "    \"State\":\"Gujarat\",\n",
    "    \"City\":\"Surat\",\n",
    "    \"Profile\":\"Developer\",\n",
    "    \"Salary\":10000,\n",
    "    \"Experience\":3,\n",
    "    \"Skills\":[\"PHP\",\"HTML\"]\n",
    "    }\n",
    "]"
   ]
  },
  {
   "cell_type": "code",
   "execution_count": 9,
   "id": "e7db44cf",
   "metadata": {},
   "outputs": [
    {
     "ename": "BulkWriteError",
     "evalue": "batch op errors occurred, full error: {'writeErrors': [{'index': 0, 'code': 11000, 'keyPattern': {'_id': 1}, 'keyValue': {'_id': ObjectId('652a5665e9bbecdaa7edc4be')}, 'errmsg': \"E11000 duplicate key error collection: infosys_db.emp_coll index: _id_ dup key: { _id: ObjectId('652a5665e9bbecdaa7edc4be') }\", 'op': {'Name': 'Madhav', 'Age': 20, 'State': 'Gujarat', 'City': 'Surat', 'Profile': 'Developer', 'Salary': 20000, 'Experience': 3, 'Skills': ['PHP', 'MySQL', 'Python'], '_id': ObjectId('652a5665e9bbecdaa7edc4be')}}], 'writeConcernErrors': [], 'nInserted': 0, 'nUpserted': 0, 'nMatched': 0, 'nModified': 0, 'nRemoved': 0, 'upserted': []}",
     "output_type": "error",
     "traceback": [
      "\u001b[1;31m---------------------------------------------------------------------------\u001b[0m",
      "\u001b[1;31mBulkWriteError\u001b[0m                            Traceback (most recent call last)",
      "Input \u001b[1;32mIn [9]\u001b[0m, in \u001b[0;36m<cell line: 1>\u001b[1;34m()\u001b[0m\n\u001b[1;32m----> 1\u001b[0m emp \u001b[38;5;241m=\u001b[39m \u001b[43memp_coll\u001b[49m\u001b[38;5;241;43m.\u001b[39;49m\u001b[43minsert_many\u001b[49m\u001b[43m(\u001b[49m\u001b[43memp_data\u001b[49m\u001b[43m)\u001b[49m\n",
      "File \u001b[1;32m~\\anaconda3\\lib\\site-packages\\pymongo\\_csot.py:108\u001b[0m, in \u001b[0;36mapply.<locals>.csot_wrapper\u001b[1;34m(self, *args, **kwargs)\u001b[0m\n\u001b[0;32m    106\u001b[0m         \u001b[38;5;28;01mwith\u001b[39;00m _TimeoutContext(timeout):\n\u001b[0;32m    107\u001b[0m             \u001b[38;5;28;01mreturn\u001b[39;00m func(\u001b[38;5;28mself\u001b[39m, \u001b[38;5;241m*\u001b[39margs, \u001b[38;5;241m*\u001b[39m\u001b[38;5;241m*\u001b[39mkwargs)\n\u001b[1;32m--> 108\u001b[0m \u001b[38;5;28;01mreturn\u001b[39;00m func(\u001b[38;5;28mself\u001b[39m, \u001b[38;5;241m*\u001b[39margs, \u001b[38;5;241m*\u001b[39m\u001b[38;5;241m*\u001b[39mkwargs)\n",
      "File \u001b[1;32m~\\anaconda3\\lib\\site-packages\\pymongo\\collection.py:757\u001b[0m, in \u001b[0;36mCollection.insert_many\u001b[1;34m(self, documents, ordered, bypass_document_validation, session, comment)\u001b[0m\n\u001b[0;32m    755\u001b[0m blk \u001b[38;5;241m=\u001b[39m _Bulk(\u001b[38;5;28mself\u001b[39m, ordered, bypass_document_validation, comment\u001b[38;5;241m=\u001b[39mcomment)\n\u001b[0;32m    756\u001b[0m blk\u001b[38;5;241m.\u001b[39mops \u001b[38;5;241m=\u001b[39m \u001b[38;5;28mlist\u001b[39m(gen())\n\u001b[1;32m--> 757\u001b[0m \u001b[43mblk\u001b[49m\u001b[38;5;241;43m.\u001b[39;49m\u001b[43mexecute\u001b[49m\u001b[43m(\u001b[49m\u001b[43mwrite_concern\u001b[49m\u001b[43m,\u001b[49m\u001b[43m \u001b[49m\u001b[43msession\u001b[49m\u001b[38;5;241;43m=\u001b[39;49m\u001b[43msession\u001b[49m\u001b[43m)\u001b[49m\n\u001b[0;32m    758\u001b[0m \u001b[38;5;28;01mreturn\u001b[39;00m InsertManyResult(inserted_ids, write_concern\u001b[38;5;241m.\u001b[39macknowledged)\n",
      "File \u001b[1;32m~\\anaconda3\\lib\\site-packages\\pymongo\\bulk.py:580\u001b[0m, in \u001b[0;36m_Bulk.execute\u001b[1;34m(self, write_concern, session)\u001b[0m\n\u001b[0;32m    578\u001b[0m         \u001b[38;5;28;01mreturn\u001b[39;00m \u001b[38;5;28;01mNone\u001b[39;00m\n\u001b[0;32m    579\u001b[0m \u001b[38;5;28;01melse\u001b[39;00m:\n\u001b[1;32m--> 580\u001b[0m     \u001b[38;5;28;01mreturn\u001b[39;00m \u001b[38;5;28;43mself\u001b[39;49m\u001b[38;5;241;43m.\u001b[39;49m\u001b[43mexecute_command\u001b[49m\u001b[43m(\u001b[49m\u001b[43mgenerator\u001b[49m\u001b[43m,\u001b[49m\u001b[43m \u001b[49m\u001b[43mwrite_concern\u001b[49m\u001b[43m,\u001b[49m\u001b[43m \u001b[49m\u001b[43msession\u001b[49m\u001b[43m)\u001b[49m\n",
      "File \u001b[1;32m~\\anaconda3\\lib\\site-packages\\pymongo\\bulk.py:450\u001b[0m, in \u001b[0;36m_Bulk.execute_command\u001b[1;34m(self, generator, write_concern, session)\u001b[0m\n\u001b[0;32m    447\u001b[0m     client\u001b[38;5;241m.\u001b[39m_retry_with_session(\u001b[38;5;28mself\u001b[39m\u001b[38;5;241m.\u001b[39mis_retryable, retryable_bulk, s, \u001b[38;5;28mself\u001b[39m)\n\u001b[0;32m    449\u001b[0m \u001b[38;5;28;01mif\u001b[39;00m full_result[\u001b[38;5;124m\"\u001b[39m\u001b[38;5;124mwriteErrors\u001b[39m\u001b[38;5;124m\"\u001b[39m] \u001b[38;5;129;01mor\u001b[39;00m full_result[\u001b[38;5;124m\"\u001b[39m\u001b[38;5;124mwriteConcernErrors\u001b[39m\u001b[38;5;124m\"\u001b[39m]:\n\u001b[1;32m--> 450\u001b[0m     \u001b[43m_raise_bulk_write_error\u001b[49m\u001b[43m(\u001b[49m\u001b[43mfull_result\u001b[49m\u001b[43m)\u001b[49m\n\u001b[0;32m    451\u001b[0m \u001b[38;5;28;01mreturn\u001b[39;00m full_result\n",
      "File \u001b[1;32m~\\anaconda3\\lib\\site-packages\\pymongo\\bulk.py:160\u001b[0m, in \u001b[0;36m_raise_bulk_write_error\u001b[1;34m(full_result)\u001b[0m\n\u001b[0;32m    158\u001b[0m \u001b[38;5;28;01mif\u001b[39;00m full_result[\u001b[38;5;124m\"\u001b[39m\u001b[38;5;124mwriteErrors\u001b[39m\u001b[38;5;124m\"\u001b[39m]:\n\u001b[0;32m    159\u001b[0m     full_result[\u001b[38;5;124m\"\u001b[39m\u001b[38;5;124mwriteErrors\u001b[39m\u001b[38;5;124m\"\u001b[39m]\u001b[38;5;241m.\u001b[39msort(key\u001b[38;5;241m=\u001b[39m\u001b[38;5;28;01mlambda\u001b[39;00m error: error[\u001b[38;5;124m\"\u001b[39m\u001b[38;5;124mindex\u001b[39m\u001b[38;5;124m\"\u001b[39m])\n\u001b[1;32m--> 160\u001b[0m \u001b[38;5;28;01mraise\u001b[39;00m BulkWriteError(full_result)\n",
      "\u001b[1;31mBulkWriteError\u001b[0m: batch op errors occurred, full error: {'writeErrors': [{'index': 0, 'code': 11000, 'keyPattern': {'_id': 1}, 'keyValue': {'_id': ObjectId('652a5665e9bbecdaa7edc4be')}, 'errmsg': \"E11000 duplicate key error collection: infosys_db.emp_coll index: _id_ dup key: { _id: ObjectId('652a5665e9bbecdaa7edc4be') }\", 'op': {'Name': 'Madhav', 'Age': 20, 'State': 'Gujarat', 'City': 'Surat', 'Profile': 'Developer', 'Salary': 20000, 'Experience': 3, 'Skills': ['PHP', 'MySQL', 'Python'], '_id': ObjectId('652a5665e9bbecdaa7edc4be')}}], 'writeConcernErrors': [], 'nInserted': 0, 'nUpserted': 0, 'nMatched': 0, 'nModified': 0, 'nRemoved': 0, 'upserted': []}"
     ]
    }
   ],
   "source": [
    "emp = emp_coll.insert_many(emp_data)"
   ]
  },
  {
   "cell_type": "markdown",
   "id": "7a4d9413",
   "metadata": {},
   "source": [
    "# Reading Documents"
   ]
  },
  {
   "cell_type": "code",
   "execution_count": 13,
   "id": "cc57218b",
   "metadata": {},
   "outputs": [],
   "source": [
    "result=emp_coll.find()"
   ]
  },
  {
   "cell_type": "code",
   "execution_count": 11,
   "id": "db8c2b3f",
   "metadata": {},
   "outputs": [
    {
     "data": {
      "text/plain": [
       "['emp_coll']"
      ]
     },
     "execution_count": 11,
     "metadata": {},
     "output_type": "execute_result"
    }
   ],
   "source": [
    "infosys_db.list_collection_names()"
   ]
  },
  {
   "cell_type": "code",
   "execution_count": 12,
   "id": "284669c8",
   "metadata": {},
   "outputs": [],
   "source": [
    "#Accessing Collection\n",
    "emp_coll=infosys_db['emp_coll']"
   ]
  },
  {
   "cell_type": "code",
   "execution_count": 14,
   "id": "902292d9",
   "metadata": {},
   "outputs": [
    {
     "data": {
      "text/plain": [
       "<pymongo.cursor.Cursor at 0x20d663b86d0>"
      ]
     },
     "execution_count": 14,
     "metadata": {},
     "output_type": "execute_result"
    }
   ],
   "source": [
    "result"
   ]
  },
  {
   "cell_type": "code",
   "execution_count": 15,
   "id": "00ef2971",
   "metadata": {},
   "outputs": [
    {
     "name": "stdout",
     "output_type": "stream",
     "text": [
      "{'_id': ObjectId('652a5647e9bbecdaa7edc4bd'), 'Name': 'Madhav', 'Age': 20, 'State': 'Gujarat', 'City': 'Surat', 'Profile': 'Developer', 'Salary': 20000, 'Experience': 3, 'Skills': ['PHP', 'MySQL', 'Python']}\n",
      "{'_id': ObjectId('652a5665e9bbecdaa7edc4be'), 'Name': 'Madhav', 'Age': 20, 'State': 'Gujarat', 'City': 'Surat', 'Profile': 'Developer', 'Salary': 20000, 'Experience': 3, 'Skills': ['PHP', 'MySQL', 'Python']}\n",
      "{'_id': ObjectId('652a5665e9bbecdaa7edc4bf'), 'Name': 'Dharmik', 'Age': 20, 'State': 'Gujarat', 'City': 'Surat', 'Profile': 'Developer', 'Salary': 110000, 'Experience': 3, 'Skills': ['PHP', 'MySQL', 'HTML']}\n",
      "{'_id': ObjectId('652a5665e9bbecdaa7edc4c0'), 'Name': 'Vivek', 'Age': 20, 'State': 'Gujarat', 'City': 'Surat', 'Profile': 'Developer', 'Salary': 10000, 'Experience': 3, 'Skills': ['PHP', 'HTML']}\n"
     ]
    }
   ],
   "source": [
    "for data in result:\n",
    "    print(data)"
   ]
  },
  {
   "cell_type": "code",
   "execution_count": 16,
   "id": "3041fa5d",
   "metadata": {},
   "outputs": [
    {
     "data": {
      "text/plain": [
       "{'_id': ObjectId('652a5647e9bbecdaa7edc4bd'),\n",
       " 'Name': 'Madhav',\n",
       " 'Age': 20,\n",
       " 'State': 'Gujarat',\n",
       " 'City': 'Surat',\n",
       " 'Profile': 'Developer',\n",
       " 'Salary': 20000,\n",
       " 'Experience': 3,\n",
       " 'Skills': ['PHP', 'MySQL', 'Python']}"
      ]
     },
     "execution_count": 16,
     "metadata": {},
     "output_type": "execute_result"
    }
   ],
   "source": [
    "emp_coll.find_one()"
   ]
  },
  {
   "cell_type": "code",
   "execution_count": 19,
   "id": "67236d2d",
   "metadata": {},
   "outputs": [
    {
     "data": {
      "text/plain": [
       "{'_id': ObjectId('652a5647e9bbecdaa7edc4bd'),\n",
       " 'Name': 'Madhav',\n",
       " 'Age': 20,\n",
       " 'State': 'Gujarat',\n",
       " 'City': 'Surat',\n",
       " 'Profile': 'Developer',\n",
       " 'Salary': 20000,\n",
       " 'Experience': 3,\n",
       " 'Skills': ['PHP', 'MySQL', 'Python']}"
      ]
     },
     "execution_count": 19,
     "metadata": {},
     "output_type": "execute_result"
    }
   ],
   "source": [
    "emp_coll.find_one({\"Name\":\"Madhav\"})"
   ]
  },
  {
   "cell_type": "code",
   "execution_count": 27,
   "id": "6e0228b4",
   "metadata": {},
   "outputs": [
    {
     "data": {
      "text/plain": [
       "numpy.ndarray"
      ]
     },
     "execution_count": 27,
     "metadata": {},
     "output_type": "execute_result"
    }
   ],
   "source": [
    "import numpy as np\n",
    "arr=np.array([[1,2,3],[2,1,5]])\n",
    "type(arr)\n",
    "#print (arr)"
   ]
  },
  {
   "cell_type": "code",
   "execution_count": 31,
   "id": "0c4ca6c1",
   "metadata": {},
   "outputs": [
    {
     "ename": "TypeError",
     "evalue": "array() takes from 1 to 2 positional arguments but 3 were given",
     "output_type": "error",
     "traceback": [
      "\u001b[1;31m---------------------------------------------------------------------------\u001b[0m",
      "\u001b[1;31mTypeError\u001b[0m                                 Traceback (most recent call last)",
      "Input \u001b[1;32mIn [31]\u001b[0m, in \u001b[0;36m<cell line: 2>\u001b[1;34m()\u001b[0m\n\u001b[0;32m      1\u001b[0m \u001b[38;5;28;01mimport\u001b[39;00m \u001b[38;5;21;01mnumpy\u001b[39;00m \u001b[38;5;28;01mas\u001b[39;00m \u001b[38;5;21;01mnp\u001b[39;00m\n\u001b[1;32m----> 2\u001b[0m arr\u001b[38;5;241m=\u001b[39m\u001b[43mnp\u001b[49m\u001b[38;5;241;43m.\u001b[39;49m\u001b[43marray\u001b[49m\u001b[43m(\u001b[49m\u001b[43m(\u001b[49m\u001b[43m[\u001b[49m\u001b[43m[\u001b[49m\u001b[38;5;241;43m1\u001b[39;49m\u001b[43m,\u001b[49m\u001b[38;5;241;43m2\u001b[39;49m\u001b[43m,\u001b[49m\u001b[38;5;241;43m3\u001b[39;49m\u001b[43m]\u001b[49m\u001b[43m,\u001b[49m\u001b[43m[\u001b[49m\u001b[38;5;241;43m2\u001b[39;49m\u001b[43m,\u001b[49m\u001b[38;5;241;43m1\u001b[39;49m\u001b[43m,\u001b[49m\u001b[38;5;241;43m5\u001b[39;49m\u001b[43m]\u001b[49m\u001b[43m]\u001b[49m\u001b[43m)\u001b[49m\u001b[43m,\u001b[49m\u001b[43m(\u001b[49m\u001b[43m[\u001b[49m\u001b[43m[\u001b[49m\u001b[38;5;241;43m1\u001b[39;49m\u001b[43m,\u001b[49m\u001b[38;5;241;43m2\u001b[39;49m\u001b[43m,\u001b[49m\u001b[38;5;241;43m3\u001b[39;49m\u001b[43m]\u001b[49m\u001b[43m,\u001b[49m\u001b[43m[\u001b[49m\u001b[38;5;241;43m2\u001b[39;49m\u001b[43m,\u001b[49m\u001b[38;5;241;43m1\u001b[39;49m\u001b[43m,\u001b[49m\u001b[38;5;241;43m5\u001b[39;49m\u001b[43m]\u001b[49m\u001b[43m]\u001b[49m\u001b[43m)\u001b[49m\u001b[43m,\u001b[49m\u001b[43m(\u001b[49m\u001b[43m[\u001b[49m\u001b[43m[\u001b[49m\u001b[38;5;241;43m1\u001b[39;49m\u001b[43m,\u001b[49m\u001b[38;5;241;43m2\u001b[39;49m\u001b[43m,\u001b[49m\u001b[38;5;241;43m3\u001b[39;49m\u001b[43m]\u001b[49m\u001b[43m,\u001b[49m\u001b[43m[\u001b[49m\u001b[38;5;241;43m2\u001b[39;49m\u001b[43m,\u001b[49m\u001b[38;5;241;43m1\u001b[39;49m\u001b[43m,\u001b[49m\u001b[38;5;241;43m5\u001b[39;49m\u001b[43m]\u001b[49m\u001b[43m]\u001b[49m\u001b[43m)\u001b[49m\u001b[43m)\u001b[49m\n\u001b[0;32m      3\u001b[0m \u001b[38;5;28mtype\u001b[39m(arr)\n",
      "\u001b[1;31mTypeError\u001b[0m: array() takes from 1 to 2 positional arguments but 3 were given"
     ]
    }
   ],
   "source": [
    "import numpy as np\n",
    "arr=np.array(([[1,2,3],[2,1,5]]),([[1,2,3],[2,1,5]]),([[1,2,3],[2,1,5]]))\n",
    "type(arr)\n",
    "#print (arr)\n"
   ]
  },
  {
   "cell_type": "code",
   "execution_count": 32,
   "id": "e84bc4b5",
   "metadata": {},
   "outputs": [],
   "source": []
  },
  {
   "cell_type": "code",
   "execution_count": 34,
   "id": "72ba73df",
   "metadata": {},
   "outputs": [
    {
     "ename": "TypeError",
     "evalue": "_save_dispatcher() missing 1 required positional argument: 'arr'",
     "output_type": "error",
     "traceback": [
      "\u001b[1;31m---------------------------------------------------------------------------\u001b[0m",
      "\u001b[1;31mTypeError\u001b[0m                                 Traceback (most recent call last)",
      "Input \u001b[1;32mIn [34]\u001b[0m, in \u001b[0;36m<cell line: 2>\u001b[1;34m()\u001b[0m\n\u001b[0;32m      1\u001b[0m a\u001b[38;5;241m=\u001b[39mnp\u001b[38;5;241m.\u001b[39marray([\u001b[38;5;241m1\u001b[39m,\u001b[38;5;241m2\u001b[39m,\u001b[38;5;241m3\u001b[39m])\n\u001b[1;32m----> 2\u001b[0m \u001b[43mnp\u001b[49m\u001b[38;5;241;43m.\u001b[39;49m\u001b[43msave\u001b[49m\u001b[43m(\u001b[49m\u001b[38;5;124;43m'\u001b[39;49m\u001b[38;5;124;43moutput.npy\u001b[39;49m\u001b[38;5;124;43m'\u001b[39;49m\u001b[43m)\u001b[49m\n",
      "File \u001b[1;32m<__array_function__ internals>:4\u001b[0m, in \u001b[0;36msave\u001b[1;34m(*args, **kwargs)\u001b[0m\n",
      "\u001b[1;31mTypeError\u001b[0m: _save_dispatcher() missing 1 required positional argument: 'arr'"
     ]
    }
   ],
   "source": []
  },
  {
   "cell_type": "code",
   "execution_count": null,
   "id": "0571f5bc",
   "metadata": {},
   "outputs": [],
   "source": []
  }
 ],
 "metadata": {
  "kernelspec": {
   "display_name": "Python 3 (ipykernel)",
   "language": "python",
   "name": "python3"
  },
  "language_info": {
   "codemirror_mode": {
    "name": "ipython",
    "version": 3
   },
   "file_extension": ".py",
   "mimetype": "text/x-python",
   "name": "python",
   "nbconvert_exporter": "python",
   "pygments_lexer": "ipython3",
   "version": "3.9.12"
  }
 },
 "nbformat": 4,
 "nbformat_minor": 5
}
