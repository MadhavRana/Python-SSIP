{
 "cells": [
  {
   "cell_type": "markdown",
   "id": "d2c0d003",
   "metadata": {},
   "source": [
    "# Lab 4 - Selection and Indexing in Pandas"
   ]
  },
  {
   "cell_type": "code",
   "execution_count": 1,
   "id": "3176b59c",
   "metadata": {},
   "outputs": [],
   "source": [
    "import pandas as pd"
   ]
  },
  {
   "cell_type": "code",
   "execution_count": 2,
   "id": "5de2181c",
   "metadata": {},
   "outputs": [
    {
     "data": {
      "text/plain": [
       "Name\n",
       "Avery Bradley    25.0\n",
       "Jae Crowder      25.0\n",
       "John Holland     27.0\n",
       "R.J. Hunter      22.0\n",
       "Jonas Jerebko    29.0\n",
       "                 ... \n",
       "Shelvin Mack     26.0\n",
       "Raul Neto        24.0\n",
       "Tibor Pleiss     26.0\n",
       "Jeff Withey      26.0\n",
       "NaN               NaN\n",
       "Name: Age, Length: 458, dtype: float64"
      ]
     },
     "execution_count": 2,
     "metadata": {},
     "output_type": "execute_result"
    }
   ],
   "source": [
    "data=pd.read_csv(\"nba.csv\",index_col=\"Name\")\n",
    "first=data[\"Age\"]\n",
    "first"
   ]
  },
  {
   "cell_type": "code",
   "execution_count": 7,
   "id": "3c31107c",
   "metadata": {},
   "outputs": [
    {
     "name": "stdout",
     "output_type": "stream",
     "text": [
      "Team        Boston Celtics\n",
      "Number                 0.0\n",
      "Position                PG\n",
      "Age                   25.0\n",
      "Height                 6-2\n",
      "Weight               180.0\n",
      "College              Texas\n",
      "Salary           7730337.0\n",
      "Name: Avery Bradley, dtype: object \n",
      "\n",
      "\n",
      " Team        Boston Celtics\n",
      "Number                28.0\n",
      "Position                SG\n",
      "Age                   22.0\n",
      "Height                 6-5\n",
      "Weight               185.0\n",
      "College      Georgia State\n",
      "Salary           1148640.0\n",
      "Name: R.J. Hunter, dtype: object\n"
     ]
    }
   ],
   "source": [
    "first=data.loc[\"Avery Bradley\"]\n",
    "second=data.loc[\"R.J. Hunter\"]\n",
    "print(first,\"\\n\\n\\n\", second)\n"
   ]
  },
  {
   "cell_type": "code",
   "execution_count": 9,
   "id": "bdba31bc",
   "metadata": {},
   "outputs": [
    {
     "name": "stdout",
     "output_type": "stream",
     "text": [
      "Team        Boston Celtics\n",
      "Number                28.0\n",
      "Position                SG\n",
      "Age                   22.0\n",
      "Height                 6-5\n",
      "Weight               185.0\n",
      "College      Georgia State\n",
      "Salary           1148640.0\n",
      "Name: R.J. Hunter, dtype: object\n"
     ]
    }
   ],
   "source": [
    "row2=data.iloc[3]\n",
    "print(row2)"
   ]
  },
  {
   "cell_type": "code",
   "execution_count": null,
   "id": "a3053ba7",
   "metadata": {},
   "outputs": [],
   "source": []
  }
 ],
 "metadata": {
  "kernelspec": {
   "display_name": "Python 3 (ipykernel)",
   "language": "python",
   "name": "python3"
  },
  "language_info": {
   "codemirror_mode": {
    "name": "ipython",
    "version": 3
   },
   "file_extension": ".py",
   "mimetype": "text/x-python",
   "name": "python",
   "nbconvert_exporter": "python",
   "pygments_lexer": "ipython3",
   "version": "3.9.12"
  }
 },
 "nbformat": 4,
 "nbformat_minor": 5
}
